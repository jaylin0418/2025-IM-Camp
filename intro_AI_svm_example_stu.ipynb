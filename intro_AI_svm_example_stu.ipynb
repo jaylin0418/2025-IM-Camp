{
  "cells": [
    {
      "cell_type": "markdown",
      "metadata": {
        "id": "view-in-github",
        "colab_type": "text"
      },
      "source": [
        "<a href=\"https://colab.research.google.com/github/jaylin0418/2025-IM-Camp/blob/main/intro_AI_svm_example_stu.ipynb\" target=\"_parent\"><img src=\"https://colab.research.google.com/assets/colab-badge.svg\" alt=\"Open In Colab\"/></a>"
      ]
    },
    {
      "cell_type": "markdown",
      "metadata": {
        "id": "n4iex22YZFbD"
      },
      "source": [
        "## 人工智慧導論 - 支持向量機 (SVM) 實作（監督式學習）"
      ]
    },
    {
      "cell_type": "code",
      "execution_count": null,
      "metadata": {
        "id": "yxKy5GIOZFbE"
      },
      "outputs": [],
      "source": [
        "!pip install sklearn\n",
        "!pip install matplotlib\n",
        "!pip install numpy"
      ]
    },
    {
      "cell_type": "markdown",
      "metadata": {
        "id": "fEDAeHykZFbF"
      },
      "source": [
        "### 1. 載入手寫數字數據集\n",
        "\n",
        "我們將使用 ```sklearn``` 提供的手寫數字數據集，這個數據集包含 1797 張手寫的數字圖片，每張圖片是 8x8 的大小，經過展平後變成 64 維的向量。"
      ]
    },
    {
      "cell_type": "code",
      "execution_count": null,
      "metadata": {
        "id": "hAxRBSyuZFbF"
      },
      "outputs": [],
      "source": [
        "from sklearn.datasets import load_digits\n",
        "\n",
        "# 下載手寫數字數據集\n",
        "digits = load_digits()\n",
        "\n",
        "# 數字圖片的數據 (1797, 64)，每個數字是一個 8x8 的圖像展平為 64 維\n",
        "data = digits.data\n",
        "\n",
        "# 真實標籤 (0-9)，每張圖片對應的真實數字\n",
        "labels = digits.target"
      ]
    },
    {
      "cell_type": "markdown",
      "metadata": {
        "id": "0yyc_ITkZFbG"
      },
      "source": [
        "這段程式碼會將數據集中的圖片數據 (data) 和對應的標籤 (labels) 分別存儲在 `data` 和 `labels` 變數中。"
      ]
    },
    {
      "cell_type": "markdown",
      "metadata": {
        "id": "59Te6_PdZFbG"
      },
      "source": [
        "### 2. 使用 SVM 進行分類\n",
        "\n",
        "SVM 是一種常見的分類方法。在這裡，我們會將數據集分成兩部分：訓練集（用來訓練模型）和測試集（用來測試模型的表現）。"
      ]
    },
    {
      "cell_type": "code",
      "execution_count": null,
      "metadata": {
        "id": "3piOaIKfZFbG"
      },
      "outputs": [],
      "source": [
        "from sklearn.model_selection import train_test_split\n",
        "\n",
        "# 將數據集分為訓練集和測試集\n",
        "X_train, X_test, y_train, y_test = train_test_split(data, labels, test_size=0.3, random_state=42)"
      ]
    },
    {
      "cell_type": "markdown",
      "metadata": {
        "id": "ABNIvNLwZFbG"
      },
      "source": [
        "在這裡，我們使用 ```train_test_split``` 函數將數據分成 70% 的訓練集和 30% 的測試集。\n",
        "\n",
        "然後，我們定義 SVM 模型，並使用訓練集來進行訓練。這裡的 `k=3` 表示每次分類時會參考最近的 3 個鄰居。"
      ]
    },
    {
      "cell_type": "code",
      "execution_count": null,
      "metadata": {
        "id": "1Gsx8uwsZFbG"
      },
      "outputs": [],
      "source": [
        "# Todo"
      ]
    },
    {
      "cell_type": "markdown",
      "metadata": {
        "id": "fJwC0GAxZFbG"
      },
      "source": [
        "這段程式碼建立了 SVM 模型並用訓練集數據來訓練它。"
      ]
    },
    {
      "cell_type": "markdown",
      "metadata": {
        "id": "Psyq-stqZFbG"
      },
      "source": [
        "### 3. 預測結果並視覺化分類結果\n",
        "\n",
        "一旦模型訓練完成，我們可以用測試集數據來進行預測。這裡的 ```predict``` 函數會返回模型對測試集每一張圖片的預測結果。"
      ]
    },
    {
      "cell_type": "code",
      "execution_count": null,
      "metadata": {
        "id": "3Re-k1fzZFbG"
      },
      "outputs": [],
      "source": [
        "# Todo"
      ]
    },
    {
      "cell_type": "markdown",
      "metadata": {
        "id": "-H37_Xe_ZFbH"
      },
      "source": [
        "接下來，我們會隨機選擇 10 張測試集中的數字圖片，並顯示它們的分類結果。"
      ]
    },
    {
      "cell_type": "code",
      "execution_count": null,
      "metadata": {
        "id": "p6vHOx-UZFbH"
      },
      "outputs": [],
      "source": [
        "import matplotlib.pyplot as plt\n",
        "import numpy as np\n",
        "\n",
        "# 定義顯示數字圖片的函數\n",
        "def plot_digits(data, predicted_labels, true_labels, title):\n",
        "    fig, axes = plt.subplots(1, 10, figsize=(10, 3))\n",
        "    for i, ax in enumerate(axes):\n",
        "        ax.set_axis_off()  # 關閉坐標軸\n",
        "        ax.imshow(data[i].reshape(8, 8), cmap='gray')  # 顯示圖片\n",
        "        ax.set_title(f\"P:{predicted_labels[i]}\\nT:{true_labels[i]}\")  # 顯示預測結果與真實標籤\n",
        "    plt.suptitle(title)\n",
        "    plt.tight_layout()\n",
        "    plt.show()\n",
        "\n",
        "# 隨機選擇 10 個數字，顯示其分類結果\n",
        "rng = np.random.default_rng()\n",
        "indices = rng.choice(len(X_test), size=10, replace=False)\n",
        "plot_digits(X_test[indices], predicted_labels[indices], y_test[indices], \"SVM Classification\")"
      ]
    },
    {
      "cell_type": "markdown",
      "metadata": {
        "id": "ButxTDNDZFbH"
      },
      "source": [
        "在這段程式碼中，我們隨機選擇 10 張圖片並顯示它們的預測標籤（`P`）和真實標籤（`T`）。這有助於我們理解模型的表現。"
      ]
    },
    {
      "cell_type": "code",
      "execution_count": null,
      "metadata": {
        "id": "uIxeOzHwZFbH"
      },
      "outputs": [],
      "source": [
        "# 顯示預測標籤與真實標籤的比較\n",
        "print(\"Predicted labels: \", predicted_labels[indices])\n",
        "print(\"True labels:      \", y_test[indices])"
      ]
    },
    {
      "cell_type": "markdown",
      "metadata": {
        "id": "trXI3uStZFbH"
      },
      "source": [
        "### 4. 計算分類準確率\n",
        "\n",
        "最後，我們計算模型的準確率，即預測正確的數字佔總數字的比例。"
      ]
    },
    {
      "cell_type": "code",
      "execution_count": null,
      "metadata": {
        "id": "yYLtU2xVZFbH"
      },
      "outputs": [],
      "source": [
        "from sklearn.metrics import accuracy_score\n",
        "\n",
        "# 計算 SVM 分類準確率\n",
        "accuracy = accuracy_score(y_test, predicted_labels)\n",
        "\n",
        "# 輸出準確率\n",
        "print(f\"SVM 分類準確率: {accuracy * 100:.2f}%\")"
      ]
    },
    {
      "cell_type": "markdown",
      "metadata": {
        "id": "ZCoWqSf_ZFbH"
      },
      "source": [
        "這段程式碼計算並顯示模型的準確率，告訴我們模型在測試集上的表現。"
      ]
    }
  ],
  "metadata": {
    "kernelspec": {
      "display_name": "base",
      "language": "python",
      "name": "python3"
    },
    "language_info": {
      "codemirror_mode": {
        "name": "ipython",
        "version": 3
      },
      "file_extension": ".py",
      "mimetype": "text/x-python",
      "name": "python",
      "nbconvert_exporter": "python",
      "pygments_lexer": "ipython3",
      "version": "3.12.2"
    },
    "colab": {
      "provenance": [],
      "include_colab_link": true
    }
  },
  "nbformat": 4,
  "nbformat_minor": 0
}