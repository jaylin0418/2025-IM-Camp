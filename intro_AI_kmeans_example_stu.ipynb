{
  "cells": [
    {
      "cell_type": "markdown",
      "metadata": {
        "id": "view-in-github",
        "colab_type": "text"
      },
      "source": [
        "<a href=\"https://colab.research.google.com/github/jaylin0418/2025-IM-Camp/blob/main/intro_AI_kmeans_example_stu.ipynb\" target=\"_parent\"><img src=\"https://colab.research.google.com/assets/colab-badge.svg\" alt=\"Open In Colab\"/></a>"
      ]
    },
    {
      "cell_type": "markdown",
      "metadata": {
        "id": "rqGQF6VkXvVF"
      },
      "source": [
        "## 人工智慧導論 - K-means clustering 實作（非監督式學習）"
      ]
    },
    {
      "cell_type": "code",
      "source": [
        "!pip install sklearn\n",
        "!pip install matplotlib\n",
        "!pip install numpy"
      ],
      "metadata": {
        "id": "Lqr7vIEwX3LO"
      },
      "execution_count": null,
      "outputs": []
    },
    {
      "cell_type": "markdown",
      "metadata": {
        "id": "4WxG3iEHXvVG"
      },
      "source": [
        "### 1. 載入手寫數字數據集\n",
        "\n",
        "我們將使用 ```sklearn``` 提供的手寫數字數據集，這個數據集包含 1797 張手寫的數字圖片，每張圖片是 8x8 的大小，經過展平後變成 64 維的向量。"
      ]
    },
    {
      "cell_type": "code",
      "execution_count": null,
      "metadata": {
        "id": "HcFWUtrgXvVH"
      },
      "outputs": [],
      "source": [
        "from sklearn.datasets import load_digits\n",
        "\n",
        "# 下載手寫數字數據集\n",
        "digits = load_digits()\n",
        "\n",
        "# 提取數字圖片的數據，將其存在 data 變數中\n",
        "# TODO\n",
        "# data = ________\n",
        "\n",
        "# 提取真實的數字標籤 (0-9)，將其存在 labels 變數中\n",
        "# TODO\n",
        "# labels = ________"
      ]
    },
    {
      "cell_type": "markdown",
      "metadata": {
        "id": "8Hb1UONVXvVI"
      },
      "source": [
        "這段程式碼會將數據集中的圖片數據 (data) 和對應的標籤 (labels) 分別存儲在 `data` 和 `labels` 變數中。"
      ]
    },
    {
      "cell_type": "markdown",
      "metadata": {
        "id": "DsWxTfAOXvVI"
      },
      "source": [
        "### 2. 使用 K-means 分群演算法\n",
        "\n",
        "K-means 是一種常見的非監督式學習演算法，用來將資料點分成多個群（cluster）。這裡將數字數據分成 10 群，因為我們有 10 個數字（0-9）。"
      ]
    },
    {
      "cell_type": "code",
      "execution_count": null,
      "metadata": {
        "id": "-mq4yh4sXvVI"
      },
      "outputs": [],
      "source": [
        "# TODO: 從 sklearn.cluster 匯入 KMeans\n",
        "# from ________ import ________\n",
        "\n",
        "# 使用 K-means 分群，將資料分為 10 顆群（模型的變數名稱為 kmeans）\n",
        "# TODO\n",
        "# kmeans = ________\n",
        "\n",
        "# 得到每個資料點的分群結果，並儲存在變數 cluster_labels 中\n",
        "# TODO\n",
        "# cluster_labels = ________"
      ]
    },
    {
      "cell_type": "markdown",
      "metadata": {
        "id": "xaVvmc9EXvVI"
      },
      "source": [
        "`KMeans` 會將數據分成 10 顆群，並且將每個資料點對應到一個群標籤。這些標籤會保存在 `cluster_labels` 中。"
      ]
    },
    {
      "cell_type": "markdown",
      "metadata": {
        "id": "4esZLk64XvVJ"
      },
      "source": [
        "### 3. 視覺化分群結果\n",
        "\n",
        "接下來，我們將視覺化一些隨機選擇的數字圖片，並且展示它們的 K-means 分群結果和真實標籤。"
      ]
    },
    {
      "cell_type": "code",
      "execution_count": null,
      "metadata": {
        "id": "G47sskBSXvVJ"
      },
      "outputs": [],
      "source": [
        "import matplotlib.pyplot as plt\n",
        "import numpy as np\n",
        "\n",
        "# 用來顯示數字圖片的函數\n",
        "def plot_digits(data, cluster_labels, true_labels, title):\n",
        "    fig, axes = plt.subplots(1, 10, figsize=(10, 3))\n",
        "    for i, ax in enumerate(axes):\n",
        "        ax.set_axis_off()\n",
        "        ax.imshow(data[i].reshape(8, 8), cmap='gray')  # 顯示圖片\n",
        "        ax.set_title(f\"C:{cluster_labels[i]}\\nT:{true_labels[i]}\")  # 顯示分群結果和真實標籤\n",
        "    plt.suptitle(title)\n",
        "    plt.tight_layout()\n",
        "    plt.show()\n",
        "\n",
        "# 隨機選擇 10 個數字，顯示其分群結果\n",
        "rng = np.random.default_rng()\n",
        "indices = rng.choice(len(data), size=20, replace=False)\n",
        "plot_digits(data[indices], cluster_labels[indices], labels[indices], \"K-means Clustering\")"
      ]
    },
    {
      "cell_type": "markdown",
      "metadata": {
        "id": "bZrLtu8fXvVJ"
      },
      "source": [
        "這段程式碼會隨機選擇 10 個數字圖片，並將每張圖片的 K-means 分群結果 (`C`) 和真實標籤 (`T`) 顯示在標題中。"
      ]
    },
    {
      "cell_type": "markdown",
      "metadata": {
        "id": "dLUwvP_2XvVJ"
      },
      "source": [
        "### 4. 計算分群的準確度\n",
        "\n",
        "由於 K-means 是非監督式學習，我們無法直接知道分群的結果是否和真實標籤一致（例如：群編號為`5`不代表這個影像所分到的真實數字類別是`5`）。因此，我們需要透過比較每個分群的標籤和真實標籤，計算 K-means 分群結果的準確度。"
      ]
    },
    {
      "cell_type": "code",
      "execution_count": null,
      "metadata": {
        "id": "XPmkcU_XXvVJ",
        "outputId": "ab0f4804-a5b1-4dea-d167-78869534cfce"
      },
      "outputs": [
        {
          "name": "stdout",
          "output_type": "stream",
          "text": [
            "K-means 分群準確率: 79.35%\n"
          ]
        }
      ],
      "source": [
        "from sklearn.metrics import accuracy_score\n",
        "from scipy.optimize import linear_sum_assignment\n",
        "\n",
        "# 計算分群準確度\n",
        "def calculate_accuracy(true_labels, cluster_labels):\n",
        "    num_classes = len(np.unique(true_labels))\n",
        "    confusion_matrix = np.zeros((num_classes, num_classes), dtype=int)\n",
        "\n",
        "    # 建立 confusion matrix\n",
        "    for true, cluster in zip(true_labels, cluster_labels):\n",
        "        confusion_matrix[true, cluster] += 1\n",
        "\n",
        "    # 使用匈牙利算法找到最佳配對\n",
        "    row_ind, col_ind = linear_sum_assignment(-confusion_matrix)  # 最大化配對\n",
        "    matching = dict(zip(col_ind, row_ind))\n",
        "\n",
        "    # 重新映射分群標籤\n",
        "    remapped_labels = np.array([matching[label] for label in cluster_labels])\n",
        "\n",
        "    # 計算 accuracy\n",
        "    # TODO\n",
        "    # return ________\n",
        "\n",
        "# 計算 K-means 的準確度，並將其存在 accuracy 變數中，最後印出（取到小數點第二位）\n",
        "# TODO"
      ]
    },
    {
      "cell_type": "markdown",
      "metadata": {
        "id": "BpmN6TntXvVK"
      },
      "source": [
        "這段程式碼會計算分群的準確度，並輸出結果。由於 K-means 的分群標籤不一定和真實標籤一致，我們需要使用匈牙利算法來尋找最佳的配對方式。"
      ]
    }
  ],
  "metadata": {
    "kernelspec": {
      "display_name": "base",
      "language": "python",
      "name": "python3"
    },
    "language_info": {
      "codemirror_mode": {
        "name": "ipython",
        "version": 3
      },
      "file_extension": ".py",
      "mimetype": "text/x-python",
      "name": "python",
      "nbconvert_exporter": "python",
      "pygments_lexer": "ipython3",
      "version": "3.12.2"
    },
    "colab": {
      "provenance": [],
      "include_colab_link": true
    }
  },
  "nbformat": 4,
  "nbformat_minor": 0
}