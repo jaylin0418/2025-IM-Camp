{
  "cells": [
    {
      "cell_type": "markdown",
      "metadata": {
        "id": "view-in-github",
        "colab_type": "text"
      },
      "source": [
        "<a href=\"https://colab.research.google.com/github/jaylin0418/2025-IM-Camp/blob/main/python2_notebook_stu.ipynb\" target=\"_parent\"><img src=\"https://colab.research.google.com/assets/colab-badge.svg\" alt=\"Open In Colab\"/></a>"
      ]
    },
    {
      "cell_type": "markdown",
      "metadata": {
        "id": "10feoC9u0OZP"
      },
      "source": [
        "## 台大資管營：Python (2)\n",
        "講師：林杰（資管系三年級）\n",
        "\n",
        "---\n",
        "\n",
        "這是台大資管營的第二堂 Python 程式設計課程講義，希望可以幫助學員進一步了解並掌握 Python 的進階功能。\n",
        "\n",
        "涵蓋的主題包括：\n",
        "- 元組 Tuple\n",
        "- 集合 Set\n",
        "- 字典 Dictionary\n",
        "- 函數 Function\n",
        "- 物件 Object\n",
        "- 模組與套件\n",
        "\n",
        "---\n",
        "\n",
        "課程進行方式如同上一節課：\n",
        "- `.ipynb` 請先準備好。\n",
        "- 開啟方式：Google Colab / Jupyter Notebook。\n",
        "- 課程講義、隨堂練習，都歡迎先往下做題目。"
      ]
    },
    {
      "cell_type": "markdown",
      "metadata": {
        "id": "r8RBQa7T0OZR"
      },
      "source": [
        "## Tuple\n",
        "\n",
        "在 Python 中，我們使用 `(小括號)` 表達元組"
      ]
    },
    {
      "cell_type": "code",
      "execution_count": null,
      "metadata": {
        "id": "-wPmIyw60OZS"
      },
      "outputs": [],
      "source": [
        "a_tuple = tuple()\n",
        "a_tuple = ()\n",
        "coordinate = (0, 0)"
      ]
    },
    {
      "cell_type": "code",
      "execution_count": null,
      "metadata": {
        "id": "mrKYj24J0OZT",
        "outputId": "43acc6b2-c374-45e3-87c8-d594c3b24e30"
      },
      "outputs": [
        {
          "name": "stdout",
          "output_type": "stream",
          "text": [
            "(0, 0)\n",
            "0\n"
          ]
        }
      ],
      "source": [
        "coordinate = (0, 0)\n",
        "print(coordinate) # 印出 (0, 0)\n",
        "print(coordinate[0])  # 印出 0"
      ]
    },
    {
      "cell_type": "markdown",
      "metadata": {
        "id": "eRXmIXxl0OZT"
      },
      "source": [
        "tuple 和 list 是非常相似的東西，不過 tuple 在建立之後就無法更改裡面的資料。\n",
        "\n",
        "所以我們不能對一個 tuple 新增元素、刪除元素。"
      ]
    },
    {
      "cell_type": "markdown",
      "metadata": {
        "id": "W6x62VjJ0OZT"
      },
      "source": [
        "### 小試身手 (1)\n",
        "\n",
        "請寫出一段 Python 程式碼，來創建一個元組，並嘗試將其中的元素改為其他值。觀察並說明程式執行的結果。"
      ]
    },
    {
      "cell_type": "code",
      "execution_count": null,
      "metadata": {
        "id": "7ZZRX4Xd0OZU"
      },
      "outputs": [],
      "source": [
        "# TODO"
      ]
    },
    {
      "cell_type": "markdown",
      "metadata": {
        "id": "Nza9lyeD0OZU"
      },
      "source": [
        "### 解答"
      ]
    },
    {
      "cell_type": "code",
      "execution_count": null,
      "metadata": {
        "id": "PxYqgiWH0OZU"
      },
      "outputs": [],
      "source": []
    },
    {
      "cell_type": "markdown",
      "metadata": {
        "id": "XnVSSYdb0OZU"
      },
      "source": [
        "## Set\n",
        "\n",
        "在 Python 中，set 是一個裝資料的大容器：\n",
        "\n",
        "- 同樣的值只出現一次\n",
        "- 裡面裝的元素之間是沒有位置關係的。"
      ]
    },
    {
      "cell_type": "code",
      "execution_count": null,
      "metadata": {
        "id": "5zuJeAM70OZU",
        "outputId": "b99dd006-b9b5-4df9-e84f-384e52eb4ce7"
      },
      "outputs": [
        {
          "data": {
            "text/plain": [
              "{10, 20}"
            ]
          },
          "execution_count": 104,
          "metadata": {},
          "output_type": "execute_result"
        }
      ],
      "source": [
        "a_set = set() # 空集合\n",
        "a_set.add(10) # 添加元素 10\n",
        "a_set.add(20) # 添加元素 20\n",
        "a_set.add(10) # 再次添加 10（無效，集合不允許重複）\n",
        "a_set # ???"
      ]
    },
    {
      "cell_type": "markdown",
      "metadata": {
        "id": "M203ncHy0OZU"
      },
      "source": [
        "remove 方法從集合中刪除指定的元素。如果該元素不存在，會拋出 `KeyError`。"
      ]
    },
    {
      "cell_type": "code",
      "execution_count": null,
      "metadata": {
        "id": "gRbWlBf40OZU",
        "outputId": "80b0e0d2-75c1-4b9c-ff4a-eaf4327a43fb"
      },
      "outputs": [
        {
          "name": "stdout",
          "output_type": "stream",
          "text": [
            "{1, 2, 4}\n"
          ]
        }
      ],
      "source": [
        "a_set = {1, 2, 3, 4}\n",
        "a_set.remove(3) # 移除元素 3\n",
        "print(a_set) # {1, 2, 4}\n",
        "#a_set.remove(5) # Error"
      ]
    },
    {
      "cell_type": "markdown",
      "metadata": {
        "id": "7yrPe8SH0OZU"
      },
      "source": [
        "discard 方法從集合中刪除指定的元素。如果該元素不存在，不會拋出錯誤。"
      ]
    },
    {
      "cell_type": "code",
      "execution_count": null,
      "metadata": {
        "id": "vRdHtFxW0OZU"
      },
      "outputs": [],
      "source": [
        "a_set.discard(5) # 沒有錯誤"
      ]
    },
    {
      "cell_type": "markdown",
      "metadata": {
        "id": "5cEZsHxf0OZV"
      },
      "source": [
        "union 方法用於返回兩個集合的聯集，包含兩個集合所有唯一元素的集合。"
      ]
    },
    {
      "cell_type": "code",
      "execution_count": null,
      "metadata": {
        "id": "zkaf5B-x0OZV",
        "outputId": "398687d9-ce3b-4c4f-9351-1456d3d20d21"
      },
      "outputs": [
        {
          "name": "stdout",
          "output_type": "stream",
          "text": [
            "{1, 2, 3, 4, 5}\n"
          ]
        }
      ],
      "source": [
        "a_set = {1, 2, 3}\n",
        "b_set = {3, 4, 5}\n",
        "result = a_set.union(b_set) # 返回兩集合的聯集\n",
        "print(result) # {1, 2, 3, 4, 5}"
      ]
    },
    {
      "cell_type": "markdown",
      "metadata": {
        "id": "GDeUd2gC0OZV"
      },
      "source": [
        "intersection 方法用於返回兩個集合的交集，即同時存在於兩個集合中的元素。"
      ]
    },
    {
      "cell_type": "code",
      "execution_count": null,
      "metadata": {
        "id": "x2aaNoLz0OZV",
        "outputId": "e5b9101b-3fa4-4b90-e66d-4175b2739c8f"
      },
      "outputs": [
        {
          "name": "stdout",
          "output_type": "stream",
          "text": [
            "{3}\n"
          ]
        }
      ],
      "source": [
        "a_set = {1, 2, 3}\n",
        "b_set = {3, 4, 5}\n",
        "result = a_set.intersection(b_set) # 返回兩集合的交集\n",
        "print(result) # {3}"
      ]
    },
    {
      "cell_type": "markdown",
      "metadata": {
        "id": "OctDZ0me0OZV"
      },
      "source": [
        "### 小試身手 (2)"
      ]
    },
    {
      "cell_type": "code",
      "execution_count": null,
      "metadata": {
        "id": "qU_9-w8p0OZV",
        "outputId": "7b43dcfe-ac15-4c21-cf3f-18d0bfc193d9"
      },
      "outputs": [
        {
          "name": "stdout",
          "output_type": "stream",
          "text": [
            "籃球社成員: {'Alice', 'Bob', 'Charlie', 'David'}\n",
            "排球社成員: {'Charlie', 'Frank', 'Eve', 'Alice'}\n"
          ]
        }
      ],
      "source": [
        "basketball_club = {\"Alice\", \"Bob\", \"Charlie\", \"David\"}\n",
        "volleyball_club = {\"Eve\", \"Frank\", \"Charlie\", \"Alice\"}\n",
        "\n",
        "# 問題 1: 新增 Grace 到籃球社\n",
        "\n",
        "# 問題 2: 從排球社移除 Eve\n",
        "print(\"籃球社成員:\", basketball_club)\n",
        "print(\"排球社成員:\", volleyball_club)\n",
        "\n",
        "# 問題 3: 同時參加兩個社團的成員\n",
        "# TODO: both_clubs =\n",
        "#print(\"同時參加兩個社團的成員:\", both_clubs)\n",
        "\n",
        "# 問題 4: 至少參加一個社團的成員\n",
        "# TODO: all_members =\n",
        "#print(\"至少參加一個社團的成員:\", all_members)"
      ]
    },
    {
      "cell_type": "markdown",
      "metadata": {
        "id": "WBrLAYgu0OZV"
      },
      "source": [
        "### 解答"
      ]
    },
    {
      "cell_type": "code",
      "execution_count": null,
      "metadata": {
        "id": "6righgjR0OZV"
      },
      "outputs": [],
      "source": []
    },
    {
      "cell_type": "markdown",
      "metadata": {
        "id": "qlCFdFfO0OZV"
      },
      "source": [
        "## Dictionary\n",
        "\n",
        "字典是由鍵值對（key-value pairs）組成的無序集合。\n",
        "\n",
        "- 鍵是唯一的，而值可以是任何資料類型。\n",
        "\n",
        "- 可以通過鍵來存取對應的值。"
      ]
    },
    {
      "cell_type": "markdown",
      "metadata": {
        "id": "S5xV6K8S0OZV"
      },
      "source": [
        "在 Python 中，我們使用 `{大括號}` 表達字典"
      ]
    },
    {
      "cell_type": "code",
      "execution_count": null,
      "metadata": {
        "id": "Hkl0VksH0OZV"
      },
      "outputs": [],
      "source": [
        "#創建一個空字典：\n",
        "my_dict = {} # 空字典"
      ]
    },
    {
      "cell_type": "code",
      "execution_count": null,
      "metadata": {
        "id": "7T1zythO0OZV",
        "outputId": "8d8ccd5b-b2a0-441f-c1f3-58be3b1bfade"
      },
      "outputs": [
        {
          "name": "stdout",
          "output_type": "stream",
          "text": [
            "{'name': 'Alice', 'age': 25, 'city': 'New York'}\n"
          ]
        }
      ],
      "source": [
        "#使用鍵值對初始化字典：\n",
        "person = {\"name\": \"Alice\", \"age\": 25, \"city\": \"New York\"}\n",
        "print(person) # {'name': 'Alice', 'age': 25, 'city': 'New York'}"
      ]
    },
    {
      "cell_type": "markdown",
      "metadata": {
        "id": "oYXg6cL_0OZV"
      },
      "source": [
        "當我們想要取出某個 key 所對應到的 value，我們可以用：`dict[key]`。"
      ]
    },
    {
      "cell_type": "code",
      "execution_count": null,
      "metadata": {
        "id": "NiC0c-LA0OZW",
        "outputId": "c2a46ab0-2ee3-452c-b320-5dbca4725a83"
      },
      "outputs": [
        {
          "data": {
            "text/plain": [
              "'Alice'"
            ]
          },
          "execution_count": 113,
          "metadata": {},
          "output_type": "execute_result"
        }
      ],
      "source": [
        "# 例如，如果想要求出 name 這個 key 所對應的 value，我們可以這樣寫：\n",
        "\n",
        "person['name'] # 程式就會回傳 'Alice'"
      ]
    },
    {
      "cell_type": "markdown",
      "metadata": {
        "id": "qQ1rfeVm0OZW"
      },
      "source": [
        "字典更改和增加的語法一模一樣!\n",
        "\n",
        "如果我們想要將 age 的值改為 30，可以這樣寫："
      ]
    },
    {
      "cell_type": "code",
      "execution_count": null,
      "metadata": {
        "id": "HSsCW96b0OZW"
      },
      "outputs": [],
      "source": [
        "person[\"age\"] = 30 # 更改 age 的值\n",
        "person[\"school\"] = \"NTU\""
      ]
    },
    {
      "cell_type": "code",
      "execution_count": null,
      "metadata": {
        "id": "nLk-mbcu0OZW",
        "outputId": "e9baf4de-2112-420f-ab03-3c56c145c010"
      },
      "outputs": [
        {
          "data": {
            "text/plain": [
              "{'name': 'Alice', 'age': 30, 'city': 'New York', 'school': 'NTU'}"
            ]
          },
          "execution_count": 115,
          "metadata": {},
          "output_type": "execute_result"
        }
      ],
      "source": [
        "person"
      ]
    },
    {
      "cell_type": "markdown",
      "metadata": {
        "id": "bH1kVxTv0OZW"
      },
      "source": [
        "我們有兩種方法可以刪除字典中的元素：\n",
        "\n",
        "1. 使用 `del` 刪除指定鍵："
      ]
    },
    {
      "cell_type": "code",
      "execution_count": null,
      "metadata": {
        "id": "5JW43dbR0OZW",
        "outputId": "f58d7562-d91b-44f8-8a40-945d815d9347"
      },
      "outputs": [
        {
          "name": "stdout",
          "output_type": "stream",
          "text": [
            "{'name': 'Alice', 'age': 30, 'school': 'NTU'}\n"
          ]
        }
      ],
      "source": [
        "del person[\"city\"] # 刪除 \"city\" 這個鍵及其對應的值\n",
        "print(person) # {'name': 'Alice', 'age': 30, 'school': 'NTU'}"
      ]
    },
    {
      "cell_type": "markdown",
      "metadata": {
        "id": "Emu7lub40OZX"
      },
      "source": [
        "2. 使用 `pop` 刪除指定鍵："
      ]
    },
    {
      "cell_type": "code",
      "execution_count": null,
      "metadata": {
        "id": "woHCm-0b0OZX",
        "outputId": "ef1cc316-37d2-4213-fab0-cfd466b0fd72"
      },
      "outputs": [
        {
          "name": "stdout",
          "output_type": "stream",
          "text": [
            "{'name': 'Alice', 'school': 'NTU'}\n",
            "Age: 30\n"
          ]
        }
      ],
      "source": [
        "age = person.pop(\"age\") # 刪除並返回 \"age\" 的值\n",
        "print(person) # {'name': 'Alice', 'school': 'NTU'}\n",
        "print(\"Age:\", age) # 30"
      ]
    },
    {
      "cell_type": "markdown",
      "metadata": {
        "id": "WxFDrjts0OZX"
      },
      "source": [
        "在某些應用中，我們只想取出字典中的鍵或值：\n",
        "1. 使用 `keys()` 取出所有鍵："
      ]
    },
    {
      "cell_type": "code",
      "execution_count": null,
      "metadata": {
        "id": "86jEROx70OZX",
        "outputId": "b52c2518-3d29-4d3c-efec-2c2bb09593ce"
      },
      "outputs": [
        {
          "name": "stdout",
          "output_type": "stream",
          "text": [
            "dict_keys(['name', 'school'])\n"
          ]
        }
      ],
      "source": [
        "keys = person.keys()\n",
        "print(keys)  # dict_keys(['name', 'school'])"
      ]
    },
    {
      "cell_type": "markdown",
      "metadata": {
        "id": "iWBystI90OZX"
      },
      "source": [
        "2. 使用 `values` 取出所有值：\n"
      ]
    },
    {
      "cell_type": "code",
      "execution_count": null,
      "metadata": {
        "id": "Q--T8L-E0OZX",
        "outputId": "63af44a9-af22-48af-dfa2-84b7d5fea483"
      },
      "outputs": [
        {
          "name": "stdout",
          "output_type": "stream",
          "text": [
            "dict_values(['Alice', 'NTU'])\n"
          ]
        }
      ],
      "source": [
        "values = person.values()\n",
        "print(values)  # dict_values(['Alice', 'NTU'])"
      ]
    },
    {
      "cell_type": "markdown",
      "metadata": {
        "id": "Voc4ncIC0OZX"
      },
      "source": [
        "3. 使用 `items()` 取出所有鍵值對"
      ]
    },
    {
      "cell_type": "code",
      "execution_count": null,
      "metadata": {
        "id": "r3OhIY380OZX",
        "outputId": "a6b51ea3-0c49-4267-ce73-bce9860983f0"
      },
      "outputs": [
        {
          "name": "stdout",
          "output_type": "stream",
          "text": [
            "dict_items([('name', 'Alice'), ('school', 'NTU')])\n"
          ]
        }
      ],
      "source": [
        "items = person.items()\n",
        "print(items)  # dict_items([('name', 'Alice'), ('school', 'NTU')])"
      ]
    },
    {
      "cell_type": "markdown",
      "metadata": {
        "id": "7GDBny8t0OZY"
      },
      "source": [
        "### 小試身手 (3)\n",
        "\n",
        "(ZeroJudge b523).\n",
        "\n",
        "\n",
        "題目：有多個輸入被存在 `input_lines`中，每一個元素都是可能包含大小寫英文字母、數字、空白的字串。\n",
        "\n",
        "對於每一個字串，判斷其是否為第一次出現，若該字串是第一次出現，就印出 NO。若該字串曾經出現過，則印出 YES。"
      ]
    },
    {
      "cell_type": "code",
      "execution_count": null,
      "metadata": {
        "id": "g8IYdr-g0OZY"
      },
      "outputs": [],
      "source": [
        "input_lines = [\n",
        "    \"Hello World\",\n",
        "    \"Python is great\",\n",
        "    \"Hello World\",\n",
        "    \"Hello Python\",\n",
        "    \"Python is great\",\n",
        "    \"Data Science\",\n",
        "    \"Machine Learning\",\n",
        "    \"Data Science\",\n",
        "    \"Deep Learning\",\n",
        "    \"Python is great\",\n",
        "    \"Artificial Intelligence\",\n",
        "    \"Machine Learning\",\n",
        "    \"Data Analysis\",\n",
        "    \"Hello Python\",\n",
        "    \"Deep Learning\"\n",
        "]\n",
        "\n",
        "## 請接著往下寫\n",
        "## TODO"
      ]
    },
    {
      "cell_type": "markdown",
      "metadata": {
        "id": "Oro3WBPu0OZY"
      },
      "source": [
        "你的程式碼應該印出：\n",
        "\n",
        "```\n",
        "NO\n",
        "NO\n",
        "YES\n",
        "NO\n",
        "YES\n",
        "NO\n",
        "NO\n",
        "YES\n",
        "NO\n",
        "YES\n",
        "NO\n",
        "YES\n",
        "NO\n",
        "YES\n",
        "YES\n",
        "```"
      ]
    },
    {
      "cell_type": "markdown",
      "metadata": {
        "id": "sAlJ3naP0OZY"
      },
      "source": [
        "### 解答"
      ]
    },
    {
      "cell_type": "code",
      "execution_count": null,
      "metadata": {
        "id": "O-0LcRIZ0OZY"
      },
      "outputs": [],
      "source": []
    },
    {
      "cell_type": "markdown",
      "metadata": {
        "id": "Xz52fR5P0OZY"
      },
      "source": [
        "## Function\n",
        "\n",
        "### 函數的基本操作\n",
        "\n",
        "- 函數定義與呼叫"
      ]
    },
    {
      "cell_type": "code",
      "execution_count": null,
      "metadata": {
        "id": "HGiYOFtp0OZY",
        "outputId": "37dfdc04-c48d-4663-98ae-0b118c447bc8"
      },
      "outputs": [
        {
          "data": {
            "text/plain": [
              "'\\ndef 函數名稱(參數1, 參數2, ...):\\n    \"\"\"函數的說明（可選）\"\"\"\\n    函數的邏輯\\n    return 返回值（可選）\\n    \\n'"
            ]
          },
          "execution_count": 123,
          "metadata": {},
          "output_type": "execute_result"
        }
      ],
      "source": [
        "'''\n",
        "def 函數名稱(參數1, 參數2, ...):\n",
        "    \"\"\"函數的說明（可選）\"\"\"\n",
        "    函數的邏輯\n",
        "    return 返回值（可選）\n",
        "\n",
        "'''"
      ]
    },
    {
      "cell_type": "code",
      "execution_count": null,
      "metadata": {
        "id": "JeurLc3L0OZY",
        "outputId": "88235b9f-10ea-44a1-cd6d-4ed544a86b43"
      },
      "outputs": [
        {
          "name": "stdout",
          "output_type": "stream",
          "text": [
            "Hello, Alice!\n"
          ]
        }
      ],
      "source": [
        "# 定義函數\n",
        "def greet(name):\n",
        "    \"\"\"打招呼函數\"\"\"\n",
        "    return f\"Hello, {name}!\"\n",
        "\n",
        "# 呼叫函數\n",
        "message = greet(\"Alice\")\n",
        "print(message)  # Hello, Alice!"
      ]
    },
    {
      "cell_type": "markdown",
      "metadata": {
        "id": "MLijHi0n0OZY"
      },
      "source": [
        "- 帶有預設參數的函數"
      ]
    },
    {
      "cell_type": "code",
      "execution_count": null,
      "metadata": {
        "id": "ZH-dxLPY0OZY",
        "outputId": "a46128fa-d3be-4cd0-a220-bd41cf8d55b3"
      },
      "outputs": [
        {
          "name": "stdout",
          "output_type": "stream",
          "text": [
            "Hello, Guest!\n",
            "Hello, Alice!\n"
          ]
        }
      ],
      "source": [
        "def greet(name=\"Guest\"):\n",
        "    \"\"\"打招呼函數，帶預設參數\"\"\"\n",
        "    return f\"Hello, {name}!\"\n",
        "\n",
        "# 不傳參數，使用預設值\n",
        "print(greet()) # Hello, Guest!\n",
        "\n",
        "# 傳入參數，覆蓋預設值\n",
        "print(greet(\"Alice\")) # Hello, Alice!"
      ]
    },
    {
      "cell_type": "markdown",
      "metadata": {
        "id": "oZc6en0D0OZY"
      },
      "source": [
        "- 帶多個參數的函數"
      ]
    },
    {
      "cell_type": "code",
      "execution_count": null,
      "metadata": {
        "id": "7bU0v-fW0OZY",
        "outputId": "2239ecfc-5561-4bf2-85d6-f3be53aa53b5"
      },
      "outputs": [
        {
          "name": "stdout",
          "output_type": "stream",
          "text": [
            "85.0\n",
            "83.0\n"
          ]
        }
      ],
      "source": [
        "def weighted_average(a, b, weight_a=0.5, weight_b=0.5):\n",
        "    \"\"\"計算兩數的加權平均數\"\"\"\n",
        "    return (a * weight_a) + (b * weight_b)\n",
        "\n",
        "# 呼叫函數，使用預設權重\n",
        "print(weighted_average(80, 90))  # 85.0\n",
        "\n",
        "# 傳入自定義權重\n",
        "print(weighted_average(80, 90, weight_a=0.7, weight_b=0.3))  # 83.0"
      ]
    },
    {
      "cell_type": "markdown",
      "metadata": {
        "id": "obgg8deJ0OZZ"
      },
      "source": [
        "- 如何將參數傳入函數？"
      ]
    },
    {
      "cell_type": "code",
      "execution_count": null,
      "metadata": {
        "id": "da245Mei0OZZ"
      },
      "outputs": [],
      "source": [
        "def intro(name, country, age):\n",
        "    print(\"My name is \" + name + \". I'm \" + str(age) + \" years old. I'm from \" + country + \".\")"
      ]
    },
    {
      "cell_type": "markdown",
      "metadata": {
        "id": "P_8I-V8n0OZZ"
      },
      "source": [
        "- 如果沒有特別指定，傳入參數的順序要依照函數宣告時所使用的順序："
      ]
    },
    {
      "cell_type": "code",
      "execution_count": null,
      "metadata": {
        "id": "ZaPg-ckd0OZZ",
        "outputId": "f6585e14-b4bd-474e-f206-8effc0b65cae"
      },
      "outputs": [
        {
          "name": "stdout",
          "output_type": "stream",
          "text": [
            "My name is John. I'm 18 years old. I'm from Taiwan (R.O.C.).\n"
          ]
        }
      ],
      "source": [
        "intro(\"John\", \"Taiwan (R.O.C.)\", 18)"
      ]
    },
    {
      "cell_type": "markdown",
      "metadata": {
        "id": "yJVHYEul0OZZ"
      },
      "source": [
        "- 我們也可以用關鍵字傳參數，在傳入的值前面「註明」其所對應的參數名稱！"
      ]
    },
    {
      "cell_type": "code",
      "execution_count": null,
      "metadata": {
        "id": "CAnu_h640OZZ",
        "outputId": "476efd4b-f7db-4314-dec5-9195913866c5"
      },
      "outputs": [
        {
          "name": "stdout",
          "output_type": "stream",
          "text": [
            "My name is John. I'm 18 years old. I'm from Taiwan (R.O.C.).\n"
          ]
        }
      ],
      "source": [
        "intro(country = \"Taiwan (R.O.C.)\", age = 18, name =\"John\")"
      ]
    },
    {
      "cell_type": "markdown",
      "metadata": {
        "id": "ikcvPW_w0OZZ"
      },
      "source": [
        "使用關鍵字參數的範例"
      ]
    },
    {
      "cell_type": "code",
      "execution_count": null,
      "metadata": {
        "id": "K--jXvKr0OZZ",
        "outputId": "3cd9564e-ddd1-4507-a602-238fd7fd34ec"
      },
      "outputs": [
        {
          "name": "stdout",
          "output_type": "stream",
          "text": [
            "name: Alice\n",
            "age: 25\n",
            "city: New York\n"
          ]
        }
      ],
      "source": [
        "def display_info(**info):\n",
        "    \"\"\"顯示輸入的資訊\"\"\"\n",
        "    for key, value in info.items():\n",
        "        print(f\"{key}: {value}\")\n",
        "\n",
        "# 傳入多個鍵值對\n",
        "display_info(name=\"Alice\", age=25, city=\"New York\")\n",
        "# 輸出:\n",
        "# name: Alice\n",
        "# age: 25\n",
        "# city: New York"
      ]
    },
    {
      "cell_type": "markdown",
      "metadata": {
        "id": "iQA2nXGW0OZZ"
      },
      "source": [
        "### 變數範疇與命名空間"
      ]
    },
    {
      "cell_type": "code",
      "execution_count": null,
      "metadata": {
        "id": "smnL4rBQ0OZZ",
        "outputId": "c5053aec-1267-4d56-f8b8-a4a67d2b034e"
      },
      "outputs": [
        {
          "name": "stdout",
          "output_type": "stream",
          "text": [
            "10\n"
          ]
        }
      ],
      "source": [
        "# 全域變數\n",
        "x = 10 # x 在全域範疇內\n",
        "\n",
        "def example_function():\n",
        "    print(x) # 訪問全域變數 x\n",
        "\n",
        "example_function() # 輸出 10"
      ]
    },
    {
      "cell_type": "code",
      "execution_count": null,
      "metadata": {
        "id": "JHgBvs-Z0OZZ",
        "outputId": "4c32fa3a-0e9a-4152-8327-e90613fd61c0"
      },
      "outputs": [
        {
          "name": "stdout",
          "output_type": "stream",
          "text": [
            "5\n"
          ]
        }
      ],
      "source": [
        "def example_function():\n",
        "    # 區域變數\n",
        "    x = 5 # x 在區域範疇內\n",
        "    print(x) # 訪問區域變數 x\n",
        "\n",
        "example_function() # 輸出 5\n",
        "# print(x) 會引發錯誤，因為 x 是區域變數，無法在函數外部訪問"
      ]
    },
    {
      "cell_type": "markdown",
      "metadata": {
        "id": "OJhy7SeH0OZZ"
      },
      "source": [
        "### 小試身手 (4)\n",
        "\n",
        "請問哪些 `x` 是區域變數，哪些 `x` 是全域變數呢？"
      ]
    },
    {
      "cell_type": "code",
      "execution_count": null,
      "metadata": {
        "id": "m1f7KmL50OZZ"
      },
      "outputs": [],
      "source": [
        "def function_1():\n",
        "    x = 5\n",
        "    print(\"In function_1, x =\", x)\n",
        "\n",
        "def function_2():\n",
        "    x = 6\n",
        "    print(\"In function_2, x =\", x)\n",
        "\n",
        "x = 8\n",
        "function_1()\n",
        "function_2()\n",
        "print(\"In main, x =\", x)"
      ]
    },
    {
      "cell_type": "markdown",
      "metadata": {
        "id": "gcGJNeqm0OZZ"
      },
      "source": [
        "### 解答"
      ]
    },
    {
      "cell_type": "code",
      "execution_count": null,
      "metadata": {
        "id": "xQTZxrJp0OZa"
      },
      "outputs": [],
      "source": []
    },
    {
      "cell_type": "markdown",
      "metadata": {
        "id": "KXG3vjz80OZa"
      },
      "source": [
        "### 遞迴函數\n",
        "- 其定義中調用自身的函數。\n",
        "- 用來解決那些可以分解為相同問題的較小版本的問題。"
      ]
    },
    {
      "cell_type": "code",
      "execution_count": null,
      "metadata": {
        "id": "pxEC7ELC0OZa"
      },
      "outputs": [],
      "source": [
        "def factorial(n):\n",
        "    if n == 0:\n",
        "        return 1 # 檢查是否為 base case\n",
        "    else:\n",
        "        return n * factorial(n-1) # 如果未達到，則進行遞迴"
      ]
    },
    {
      "cell_type": "code",
      "execution_count": null,
      "metadata": {
        "id": "CLxpRd0-0OZa",
        "outputId": "f3d340f0-858e-468c-f6c4-2d0528f54128"
      },
      "outputs": [
        {
          "name": "stdout",
          "output_type": "stream",
          "text": [
            "120\n"
          ]
        }
      ],
      "source": [
        "print(factorial(5))  # 120"
      ]
    },
    {
      "cell_type": "markdown",
      "metadata": {
        "id": "KvgHGFHI0OZa"
      },
      "source": [
        "### 小試身手 (5)\n",
        "\n",
        "(ZeroJudge e357).\n",
        "\n",
        "定義函數 $F(x)$\n",
        "\n",
        "$$\n",
        "F(x) =\n",
        "\\begin{cases}\n",
        "1 & \\text{若 } x = 1 \\\\\n",
        "F\\left(\\frac{x}{2}\\right) & \\text{若 } x \\text{ 為偶數} \\\\\n",
        "F(x - 1) + F(x + 1) & \\text{其餘情況}\n",
        "\\end{cases}\n",
        "$$\n",
        "\n",
        "請在講義 Jupyter Notebook 中寫出此函數，並算出 $F(14)$ 和 $F(15)$。"
      ]
    },
    {
      "cell_type": "code",
      "execution_count": null,
      "metadata": {
        "id": "90vhj31z0OZa"
      },
      "outputs": [],
      "source": [
        "## 請接著往下寫\n",
        "def F(x):\n",
        "    pass\n",
        "    # TODO"
      ]
    },
    {
      "cell_type": "markdown",
      "metadata": {
        "id": "NetrTdiY0OZa"
      },
      "source": [
        "### 解答"
      ]
    },
    {
      "cell_type": "code",
      "execution_count": null,
      "metadata": {
        "id": "C3MwstyE0OZa"
      },
      "outputs": [],
      "source": []
    },
    {
      "cell_type": "markdown",
      "metadata": {
        "id": "jmORHjrO0OZa"
      },
      "source": [
        "## Object\n",
        "\n",
        "將物件類比為一個「盒子」，內部包含：\n",
        "- **屬性 (Attributes)**：描述物件的資料 (如名稱、顏色)。\n",
        "- **方法 (Methods)**：操作物件的行為 (如喵喵叫、吃東西)。\n",
        "\n",
        "---\n",
        "\n",
        "##### 類別 (Class)\n",
        "用來定義物件的範疇，規範所有屬性與方法的共同特徵。\n",
        "\n",
        "例如，定義「貓咪」類別，包含：\n",
        "- **屬性**：名字、毛色。\n",
        "- **方法**：喵喵叫、睡覺。\n",
        "\n",
        "---\n",
        "\n",
        "##### 實例 (Instance)\n",
        "具體化的物件，例如：\n",
        "- **貓咪實例**: 大橘、小白。  \n",
        "  它們的名字不同，但都屬於「貓咪」類別，共享基本屬性和方法。\n"
      ]
    },
    {
      "cell_type": "code",
      "execution_count": null,
      "metadata": {
        "id": "RCQ73lwn0OZa"
      },
      "outputs": [],
      "source": [
        "class Cat:\n",
        "    def __init__(self, name, color, weight):\n",
        "        self.name = name\n",
        "        self.color = color\n",
        "        self.weight = weight\n",
        "    def meow(self):\n",
        "        print(f\"{self.name} says Meow!\")\n",
        "    def eat(self, food):\n",
        "        print(f\"{self.name} is eating {food}.\")\n",
        "    def sleep(self, hours):\n",
        "        print(f\"{self.name} sleeps for {hours} hours.\")"
      ]
    },
    {
      "cell_type": "code",
      "execution_count": null,
      "metadata": {
        "id": "QnFJ7vXD0OZa",
        "outputId": "823a4f1c-2ff0-4417-f828-90fe9c665084"
      },
      "outputs": [
        {
          "name": "stdout",
          "output_type": "stream",
          "text": [
            "大橘 says Meow!\n",
            "小白 is eating 魚.\n",
            "黑咪 sleeps for 10 hours.\n"
          ]
        }
      ],
      "source": [
        "cat1 = Cat(\"大橘\", \"橘色\", 5.5)\n",
        "cat2 = Cat(\"小白\", \"白色\", 4.2)\n",
        "cat3 = Cat(\"黑咪\", \"黑色\", 6.0)\n",
        "\n",
        "cat1.meow() # 大橘 says Meow!\n",
        "cat2.eat(\"魚\") # 小白 is eating 魚.\n",
        "cat3.sleep(10) # 黑咪 sleeps for 10 hours."
      ]
    },
    {
      "cell_type": "markdown",
      "metadata": {
        "id": "iNFSn0hm0OZa"
      },
      "source": [
        "## 模組與套件\n",
        "\n",
        "匯入整個模組或套件\n",
        "\n",
        "`import 模組套件或名稱`\n",
        "\n",
        "匯入模組或套件，並給別名\n",
        "\n",
        "`import 模組或套件名稱 as 別名`\n",
        "\n",
        "匯入模組或套件中特定的函數或類別\n",
        "\n",
        "`from 模組或套件名稱 import 子模組, 套件或函數名稱`"
      ]
    },
    {
      "cell_type": "code",
      "execution_count": null,
      "metadata": {
        "id": "IQ0949_o0OZa"
      },
      "outputs": [],
      "source": [
        "!pip install numpy"
      ]
    },
    {
      "cell_type": "code",
      "execution_count": null,
      "metadata": {
        "id": "-BmzY2l80OZa",
        "outputId": "8b5b313a-dca7-4b00-91f7-2692f39f43bd"
      },
      "outputs": [
        {
          "name": "stdout",
          "output_type": "stream",
          "text": [
            "[1 2 3 4]\n",
            "11\n",
            "[ 0.84147098  0.90929743  0.14112001 -0.7568025 ]\n"
          ]
        }
      ],
      "source": [
        "import numpy as np\n",
        "\n",
        "# 在 Numpy 中建立陣列：\n",
        "arr = np.array([1, 2, 3, 4])\n",
        "print(arr) # [1 2 3 4]\n",
        "\n",
        "# 矩陣及向量運算：\n",
        "result = np.dot([1, 2], [3, 4])\n",
        "print(result) # 11\n",
        "\n",
        "# 數學運算：\n",
        "sin_values = np.sin(arr)\n",
        "print(sin_values) # [ 0.84147098  0.90929743  0.14112001 -0.7568025 ]"
      ]
    },
    {
      "cell_type": "markdown",
      "metadata": {
        "id": "vWHFIrkr0OZb"
      },
      "source": [
        "### 小試身手 (6)\n",
        "請完成以下的題目！\n",
        "\n",
        "在日常的程式開發中，Numpy 是一個強大且常用的數值運算工具，適合用來處理陣列與矩陣運算。本練習的目的是讓你熟悉 Numpy 的基本操作，包含陣列的建立、基本運算、條件篩選以及簡單的矩陣操作。\n",
        "\n",
        "以下是幾個練習題，請依據提示補上程式碼並完成運算：\n",
        "1. 建立 Numpy 陣列並進行操作。\n",
        "2. 使用 Numpy 進行簡單的數學運算。\n",
        "3. 熟悉矩陣轉置與條件篩選的操作。\n",
        "4. 嘗試使用隨機數生成並進行基本的統計分析。\n",
        "\n",
        "請完成程式中的 `TODO` 區塊，並嘗試運行程式檢查結果是否正確！\n",
        "\n",
        "Hint: 善用各種搜尋工具！"
      ]
    },
    {
      "cell_type": "code",
      "execution_count": null,
      "metadata": {
        "id": "hjfqIsZW0OZb"
      },
      "outputs": [],
      "source": [
        "import numpy as np\n",
        "\n",
        "# 題目 1: 建立與操作 Numpy 陣列\n",
        "# 1-1. 建立一個一維陣列 arr1，內容為 [10, 20, 30, 40, 50]，並列印出來。\n",
        "# TODO: arr1 =\n",
        "\n",
        "# 1-2. 建立一個二維陣列 arr2，內容為 [[1, 2, 3], [4, 5, 6], [7, 8, 9]]，並列印出來。\n",
        "# TODO: arr2 =\n",
        "\n",
        "# 題目 2: 陣列基本運算\n",
        "# 2-1. 創建兩個陣列 arr1 = np.array([1, 2, 3]) 和 arr2 = np.array([4, 5, 6])，計算它們的逐元素相加。\n",
        "# TODO: sum_result =\n",
        "\n",
        "# 2-2. 計算 arr1 與 arr2 的逐元素乘積。\n",
        "# TODO: product_result =\n",
        "\n",
        "# 題目 3: 數學運算\n",
        "# 建立一個陣列 arr = np.array([0, np.pi/2, np.pi])，計算它的 sin 值。\n",
        "# TODO: sin_values =\n",
        "\n",
        "# 題目 4: 矩陣運算\n",
        "# 創建一個矩陣 A，內容為 [[1, 2], [3, 4]]，計算它的轉置 (transpose)。\n",
        "# TODO: A =\n",
        "# TODO: transpose_A =\n",
        "\n",
        "# 題目 5: 條件篩選\n",
        "# 建立一個陣列 arr = np.array([1, 2, 3, 4, 5, 6])，篩選出所有大於 3 的數字。\n",
        "# TODO: filtered_arr =\n",
        "\n",
        "# 附加挑戰\n",
        "# 請試著用 Numpy 產生 100 個標準常態分布的隨機數，並計算它的平均值。\n",
        "# TODO: random_numbers =\n",
        "# TODO: mean ="
      ]
    },
    {
      "cell_type": "markdown",
      "source": [
        "### 解答"
      ],
      "metadata": {
        "id": "fXjlvQNU1wC5"
      }
    },
    {
      "cell_type": "code",
      "source": [],
      "metadata": {
        "id": "x_KHZHyN1yqI"
      },
      "execution_count": null,
      "outputs": []
    }
  ],
  "metadata": {
    "kernelspec": {
      "display_name": "base",
      "language": "python",
      "name": "python3"
    },
    "language_info": {
      "codemirror_mode": {
        "name": "ipython",
        "version": 3
      },
      "file_extension": ".py",
      "mimetype": "text/x-python",
      "name": "python",
      "nbconvert_exporter": "python",
      "pygments_lexer": "ipython3",
      "version": "3.12.2"
    },
    "colab": {
      "provenance": [],
      "include_colab_link": true
    }
  },
  "nbformat": 4,
  "nbformat_minor": 0
}