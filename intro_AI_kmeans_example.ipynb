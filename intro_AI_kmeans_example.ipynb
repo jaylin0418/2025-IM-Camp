{
  "cells": [
    {
      "cell_type": "markdown",
      "metadata": {
        "id": "view-in-github",
        "colab_type": "text"
      },
      "source": [
        "<a href=\"https://colab.research.google.com/github/jaylin0418/2025-IM-Camp/blob/main/intro_AI_kmeans_example.ipynb\" target=\"_parent\"><img src=\"https://colab.research.google.com/assets/colab-badge.svg\" alt=\"Open In Colab\"/></a>"
      ]
    },
    {
      "cell_type": "markdown",
      "metadata": {
        "id": "gt4gMDfJXCF6"
      },
      "source": [
        "## 人工智慧導論 - K-means clustering 實作（非監督式學習）"
      ]
    },
    {
      "cell_type": "code",
      "source": [
        "!pip install sklearn\n",
        "!pip install matplotlib\n",
        "!pip install numpy"
      ],
      "metadata": {
        "colab": {
          "base_uri": "https://localhost:8080/"
        },
        "id": "0eT8MjfdXNA1",
        "outputId": "a7024f80-e643-4946-af24-1df8e23540ad"
      },
      "execution_count": 6,
      "outputs": [
        {
          "output_type": "stream",
          "name": "stdout",
          "text": [
            "Collecting sklearn\n",
            "  Using cached sklearn-0.0.post12.tar.gz (2.6 kB)\n",
            "  \u001b[1;31merror\u001b[0m: \u001b[1msubprocess-exited-with-error\u001b[0m\n",
            "  \n",
            "  \u001b[31m×\u001b[0m \u001b[32mpython setup.py egg_info\u001b[0m did not run successfully.\n",
            "  \u001b[31m│\u001b[0m exit code: \u001b[1;36m1\u001b[0m\n",
            "  \u001b[31m╰─>\u001b[0m See above for output.\n",
            "  \n",
            "  \u001b[1;35mnote\u001b[0m: This error originates from a subprocess, and is likely not a problem with pip.\n",
            "  Preparing metadata (setup.py) ... \u001b[?25l\u001b[?25herror\n",
            "\u001b[1;31merror\u001b[0m: \u001b[1mmetadata-generation-failed\u001b[0m\n",
            "\n",
            "\u001b[31m×\u001b[0m Encountered error while generating package metadata.\n",
            "\u001b[31m╰─>\u001b[0m See above for output.\n",
            "\n",
            "\u001b[1;35mnote\u001b[0m: This is an issue with the package mentioned above, not pip.\n",
            "\u001b[1;36mhint\u001b[0m: See above for details.\n",
            "Requirement already satisfied: matplotlib in /usr/local/lib/python3.11/dist-packages (3.10.0)\n",
            "Requirement already satisfied: contourpy>=1.0.1 in /usr/local/lib/python3.11/dist-packages (from matplotlib) (1.3.1)\n",
            "Requirement already satisfied: cycler>=0.10 in /usr/local/lib/python3.11/dist-packages (from matplotlib) (0.12.1)\n",
            "Requirement already satisfied: fonttools>=4.22.0 in /usr/local/lib/python3.11/dist-packages (from matplotlib) (4.55.7)\n",
            "Requirement already satisfied: kiwisolver>=1.3.1 in /usr/local/lib/python3.11/dist-packages (from matplotlib) (1.4.8)\n",
            "Requirement already satisfied: numpy>=1.23 in /usr/local/lib/python3.11/dist-packages (from matplotlib) (1.26.4)\n",
            "Requirement already satisfied: packaging>=20.0 in /usr/local/lib/python3.11/dist-packages (from matplotlib) (24.2)\n",
            "Requirement already satisfied: pillow>=8 in /usr/local/lib/python3.11/dist-packages (from matplotlib) (11.1.0)\n",
            "Requirement already satisfied: pyparsing>=2.3.1 in /usr/local/lib/python3.11/dist-packages (from matplotlib) (3.2.1)\n",
            "Requirement already satisfied: python-dateutil>=2.7 in /usr/local/lib/python3.11/dist-packages (from matplotlib) (2.8.2)\n",
            "Requirement already satisfied: six>=1.5 in /usr/local/lib/python3.11/dist-packages (from python-dateutil>=2.7->matplotlib) (1.17.0)\n",
            "Requirement already satisfied: numpy in /usr/local/lib/python3.11/dist-packages (1.26.4)\n"
          ]
        }
      ]
    },
    {
      "cell_type": "markdown",
      "metadata": {
        "id": "0ndH1m-VXCF8"
      },
      "source": [
        "### 1. 載入手寫數字數據集\n",
        "\n",
        "我們將使用 ```sklearn``` 提供的手寫數字數據集，這個數據集包含 1797 張手寫的數字圖片，每張圖片是 8x8 的大小，經過展平後變成 64 維的向量。"
      ]
    },
    {
      "cell_type": "code",
      "execution_count": 7,
      "metadata": {
        "colab": {
          "base_uri": "https://localhost:8080/"
        },
        "id": "lmQgbLVfXCF9",
        "outputId": "5f8d1e4a-6581-4a77-a000-7543e2922eba"
      },
      "outputs": [
        {
          "output_type": "stream",
          "name": "stdout",
          "text": [
            "(1797, 64)\n"
          ]
        }
      ],
      "source": [
        "from sklearn.datasets import load_digits\n",
        "\n",
        "# 下載手寫數字數據集\n",
        "digits = load_digits()\n",
        "\n",
        "# 數字圖片的數據\n",
        "data = digits.data  # (1797, 64)，每個數字是一個 8x8 的圖像展平為 64 維\n",
        "print(data.shape)\n",
        "\n",
        "# 真實的數字標籤 (0-9)\n",
        "labels = digits.target"
      ]
    },
    {
      "cell_type": "markdown",
      "metadata": {
        "id": "8qyGgbU1XCF-"
      },
      "source": [
        "這段程式碼會將數據集中的圖片數據 (data) 和對應的標籤 (labels) 分別存儲在 `data` 和 `labels` 變數中。"
      ]
    },
    {
      "cell_type": "markdown",
      "metadata": {
        "id": "_cPBE2PzXCF-"
      },
      "source": [
        "### 2. 使用 K-means 分群演算法\n",
        "\n",
        "K-means 是一種常見的非監督式學習演算法，用來將資料點分成多個群（cluster）。這裡將數字數據分成 10 群，因為我們有 10 個數字（0-9）。"
      ]
    },
    {
      "cell_type": "code",
      "execution_count": 8,
      "metadata": {
        "id": "Tpt_1CMTXCF_"
      },
      "outputs": [],
      "source": [
        "from sklearn.cluster import KMeans\n",
        "\n",
        "# 使用 K-means 分群，將資料分為 10 顆群\n",
        "kmeans = KMeans(n_clusters=10, random_state=42, n_init=10)\n",
        "kmeans.fit(data)\n",
        "\n",
        "# 得到每個資料點的分群結果\n",
        "cluster_labels = kmeans.labels_"
      ]
    },
    {
      "cell_type": "markdown",
      "metadata": {
        "id": "Ayfvu17dXCF_"
      },
      "source": [
        "`KMeans` 會將數據分成 10 顆群，並且將每個資料點對應到一個群標籤。這些標籤會保存在 `cluster_labels` 中。"
      ]
    },
    {
      "cell_type": "markdown",
      "metadata": {
        "id": "9ivJqolRXCF_"
      },
      "source": [
        "### 3. 視覺化分群結果\n",
        "\n",
        "接下來，我們將視覺化一些隨機選擇的數字圖片，並且展示它們的 K-means 分群結果和真實標籤。"
      ]
    },
    {
      "cell_type": "code",
      "execution_count": 9,
      "metadata": {
        "colab": {
          "base_uri": "https://localhost:8080/",
          "height": 239
        },
        "id": "vLBu0k1IXCF_",
        "outputId": "b57f09a3-c323-466d-c2cf-77c0328cbf48"
      },
      "outputs": [
        {
          "output_type": "display_data",
          "data": {
            "text/plain": [
              "<Figure size 1000x300 with 10 Axes>"
            ],
            "image/png": "[encoded data removed]"
          },
          "metadata": {}
        }
      ],
      "source": [
        "import matplotlib.pyplot as plt\n",
        "import numpy as np\n",
        "\n",
        "# 用來顯示數字圖片的函數\n",
        "def plot_digits(data, cluster_labels, true_labels, title):\n",
        "    fig, axes = plt.subplots(1, 10, figsize=(10, 3))\n",
        "    for i, ax in enumerate(axes):\n",
        "        ax.set_axis_off()  # 關閉坐標軸\n",
        "        ax.imshow(data[i].reshape(8, 8), cmap='gray')  # 顯示圖片\n",
        "        ax.set_title(f\"C:{cluster_labels[i]}\\nT:{true_labels[i]}\")  # 顯示分群結果和真實標籤\n",
        "    plt.suptitle(title)\n",
        "    plt.tight_layout()\n",
        "    plt.show()\n",
        "\n",
        "# 隨機選擇 10 個數字，顯示其分群結果\n",
        "rng = np.random.default_rng()\n",
        "indices = rng.choice(len(data), size=20, replace=False)\n",
        "plot_digits(data[indices], cluster_labels[indices], labels[indices], \"K-means Clustering\")"
      ]
    },
    {
      "cell_type": "markdown",
      "metadata": {
        "id": "S6MTUhQbXCGA"
      },
      "source": [
        "這段程式碼會隨機選擇 10 個數字圖片，並將每張圖片的 K-means 分群結果 (`C`) 和真實標籤 (`T`) 顯示在標題中。"
      ]
    },
    {
      "cell_type": "markdown",
      "metadata": {
        "id": "Fr0y9saGXCGA"
      },
      "source": [
        "### 4. 計算分群的準確度\n",
        "\n",
        "由於 K-means 是非監督式學習，我們無法直接知道分群的結果是否和真實標籤一致（例如：群編號為`5`不代表這個影像所分到的真實數字類別是`5`）。因此，我們需要透過比較每個分群的標籤和真實標籤，計算 K-means 分群結果的準確度。"
      ]
    },
    {
      "cell_type": "code",
      "execution_count": 10,
      "metadata": {
        "colab": {
          "base_uri": "https://localhost:8080/"
        },
        "id": "HNhoM5iEXCGA",
        "outputId": "36ca7862-f5fc-4a13-ac94-5052c57447ef"
      },
      "outputs": [
        {
          "output_type": "stream",
          "name": "stdout",
          "text": [
            "K-means 分群準確率: 79.35%\n"
          ]
        }
      ],
      "source": [
        "from sklearn.metrics import accuracy_score\n",
        "from scipy.optimize import linear_sum_assignment\n",
        "\n",
        "# 計算分群準確度\n",
        "def calculate_accuracy(true_labels, cluster_labels):\n",
        "    num_classes = len(np.unique(true_labels))\n",
        "    confusion_matrix = np.zeros((num_classes, num_classes), dtype=int)\n",
        "\n",
        "    # 建立 confusion matrix\n",
        "    for true, cluster in zip(true_labels, cluster_labels):\n",
        "        confusion_matrix[true, cluster] += 1\n",
        "\n",
        "    # 使用匈牙利算法找到最佳配對\n",
        "    row_ind, col_ind = linear_sum_assignment(-confusion_matrix)  # 最大化配對\n",
        "    matching = dict(zip(col_ind, row_ind))\n",
        "\n",
        "    # 重新映射分群標籤\n",
        "    remapped_labels = np.array([matching[label] for label in cluster_labels])\n",
        "\n",
        "    # 計算 accuracy\n",
        "    return accuracy_score(true_labels, remapped_labels)\n",
        "\n",
        "# 計算 K-means 的準確度\n",
        "accuracy = calculate_accuracy(labels, cluster_labels)\n",
        "print(f\"K-means 分群準確率: {accuracy * 100:.2f}%\")"
      ]
    },
    {
      "cell_type": "markdown",
      "metadata": {
        "id": "q30_gtR-XCGA"
      },
      "source": [
        "這段程式碼會計算分群的準確度，並輸出結果。由於 K-means 的分群標籤不一定和真實標籤一致，我們需要使用匈牙利算法來尋找最佳的配對方式。"
      ]
    }
  ],
  "metadata": {
    "kernelspec": {
      "display_name": "base",
      "language": "python",
      "name": "python3"
    },
    "language_info": {
      "codemirror_mode": {
        "name": "ipython",
        "version": 3
      },
      "file_extension": ".py",
      "mimetype": "text/x-python",
      "name": "python",
      "nbconvert_exporter": "python",
      "pygments_lexer": "ipython3",
      "version": "3.12.2"
    },
    "colab": {
      "provenance": [],
      "include_colab_link": true
    }
  },
  "nbformat": 4,
  "nbformat_minor": 0
}