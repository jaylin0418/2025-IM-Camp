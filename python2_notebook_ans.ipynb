{
  "cells": [
    {
      "cell_type": "markdown",
      "metadata": {
        "id": "view-in-github",
        "colab_type": "text"
      },
      "source": [
        "<a href=\"https://colab.research.google.com/github/jaylin0418/2025-IM-Camp/blob/main/python2_notebook_ans.ipynb\" target=\"_parent\"><img src=\"https://colab.research.google.com/assets/colab-badge.svg\" alt=\"Open In Colab\"/></a>"
      ]
    },
    {
      "cell_type": "markdown",
      "metadata": {
        "id": "uRi8zg1T1_6q"
      },
      "source": [
        "## 台大資管營：Python (2)\n",
        "講師：林杰（資管系三年級）\n",
        "\n",
        "---\n",
        "\n",
        "這是台大資管營的第二堂 Python 程式設計課程講義，希望可以幫助學員進一步了解並掌握 Python 的進階功能。\n",
        "\n",
        "涵蓋的主題包括：\n",
        "- 元組 Tuple\n",
        "- 集合 Set\n",
        "- 字典 Dictionary\n",
        "- 函數 Function\n",
        "- 物件 Object\n",
        "- 模組與套件\n",
        "\n",
        "---\n",
        "\n",
        "課程進行方式如同上一節課：\n",
        "- `.ipynb` 請先準備好。\n",
        "- 開啟方式：Google Colab / Jupyter Notebook。\n",
        "- 課程講義、隨堂練習，都歡迎先往下做題目。"
      ]
    },
    {
      "cell_type": "markdown",
      "metadata": {
        "id": "3-YA4Zhs1_6r"
      },
      "source": [
        "## Tuple\n",
        "\n",
        "在 Python 中，我們使用 `(小括號)` 表達元組"
      ]
    },
    {
      "cell_type": "code",
      "execution_count": null,
      "metadata": {
        "id": "41DsZjfz1_6s"
      },
      "outputs": [],
      "source": [
        "a_tuple = tuple()\n",
        "a_tuple = ()\n",
        "coordinate = (0, 0)"
      ]
    },
    {
      "cell_type": "code",
      "execution_count": null,
      "metadata": {
        "id": "gauekCtP1_6t",
        "outputId": "175b7360-3618-4f1b-ce57-7968c753c7f6"
      },
      "outputs": [
        {
          "name": "stdout",
          "output_type": "stream",
          "text": [
            "(0, 0)\n",
            "0\n"
          ]
        }
      ],
      "source": [
        "coordinate = (0, 0)\n",
        "print(coordinate) # 印出 (0, 0)\n",
        "print(coordinate[0])  # 印出 0"
      ]
    },
    {
      "cell_type": "markdown",
      "metadata": {
        "id": "KNJKMTYM1_6u"
      },
      "source": [
        "tuple 和 list 是非常相似的東西，不過 tuple 在建立之後就無法更改裡面的資料。\n",
        "\n",
        "所以我們不能對一個 tuple 新增元素、刪除元素。"
      ]
    },
    {
      "cell_type": "markdown",
      "metadata": {
        "id": "Foqen1iK1_6u"
      },
      "source": [
        "### 小試身手 (1)\n",
        "\n",
        "請寫出一段 Python 程式碼，來創建一個元組，並嘗試將其中的元素改為其他值。觀察並說明程式執行的結果。"
      ]
    },
    {
      "cell_type": "code",
      "execution_count": null,
      "metadata": {
        "id": "N256j-b31_6u"
      },
      "outputs": [],
      "source": [
        "# TODO"
      ]
    },
    {
      "cell_type": "markdown",
      "metadata": {
        "id": "FmApf-481_6u"
      },
      "source": [
        "### 解答"
      ]
    },
    {
      "cell_type": "code",
      "execution_count": null,
      "metadata": {
        "id": "m8RP07OE1_6v",
        "outputId": "e06e0f4f-f527-4775-b381-6055543b91fb"
      },
      "outputs": [
        {
          "name": "stdout",
          "output_type": "stream",
          "text": [
            "Error: 'tuple' object does not support item assignment\n",
            "Tuple after attempting modification: (1, 2, 3)\n"
          ]
        }
      ],
      "source": [
        "my_tuple = (1, 2, 3)\n",
        "\n",
        "try:\n",
        "    my_tuple[0] = 10\n",
        "except TypeError as e:\n",
        "    print(\"Error:\", e)\n",
        "\n",
        "print(\"Tuple after attempting modification:\", my_tuple)"
      ]
    },
    {
      "cell_type": "markdown",
      "metadata": {
        "id": "_1Yv7LQp1_6v"
      },
      "source": [
        "## Set\n",
        "\n",
        "在 Python 中，set 是一個裝資料的大容器：\n",
        "\n",
        "- 同樣的值只出現一次\n",
        "- 裡面裝的元素之間是沒有位置關係的。"
      ]
    },
    {
      "cell_type": "code",
      "execution_count": null,
      "metadata": {
        "id": "_hHltkFS1_6v",
        "outputId": "9372e602-5f20-4eca-ba7c-286f7e19437c"
      },
      "outputs": [
        {
          "data": {
            "text/plain": [
              "{10, 20}"
            ]
          },
          "execution_count": 5,
          "metadata": {},
          "output_type": "execute_result"
        }
      ],
      "source": [
        "a_set = set() # 空集合\n",
        "a_set.add(10) # 添加元素 10\n",
        "a_set.add(20) # 添加元素 20\n",
        "a_set.add(10) # 再次添加 10（無效，集合不允許重複）\n",
        "a_set # ???"
      ]
    },
    {
      "cell_type": "markdown",
      "metadata": {
        "id": "tYYkfVum1_6v"
      },
      "source": [
        "remove 方法從集合中刪除指定的元素。如果該元素不存在，會拋出 `KeyError`。"
      ]
    },
    {
      "cell_type": "code",
      "execution_count": null,
      "metadata": {
        "id": "DucnFbES1_6v",
        "outputId": "275b7ab2-53ae-4863-d5ba-f564f2b383c0"
      },
      "outputs": [
        {
          "name": "stdout",
          "output_type": "stream",
          "text": [
            "{1, 2, 4}\n"
          ]
        }
      ],
      "source": [
        "a_set = {1, 2, 3, 4}\n",
        "a_set.remove(3) # 移除元素 3\n",
        "print(a_set) # {1, 2, 4}\n",
        "#a_set.remove(5) # Error"
      ]
    },
    {
      "cell_type": "markdown",
      "metadata": {
        "id": "im5VlPxV1_6v"
      },
      "source": [
        "discard 方法從集合中刪除指定的元素。如果該元素不存在，不會拋出錯誤。"
      ]
    },
    {
      "cell_type": "code",
      "execution_count": null,
      "metadata": {
        "id": "FG3lasf91_6w"
      },
      "outputs": [],
      "source": [
        "a_set.discard(5) # 沒有錯誤"
      ]
    },
    {
      "cell_type": "markdown",
      "metadata": {
        "id": "7a9D6ko51_6w"
      },
      "source": [
        "union 方法用於返回兩個集合的聯集，包含兩個集合所有唯一元素的集合。"
      ]
    },
    {
      "cell_type": "code",
      "execution_count": null,
      "metadata": {
        "id": "G9ia-VsS1_6w",
        "outputId": "c61425f1-0e30-4b8b-bb55-049b2967661f"
      },
      "outputs": [
        {
          "name": "stdout",
          "output_type": "stream",
          "text": [
            "{1, 2, 3, 4, 5}\n"
          ]
        }
      ],
      "source": [
        "a_set = {1, 2, 3}\n",
        "b_set = {3, 4, 5}\n",
        "result = a_set.union(b_set) # 返回兩集合的聯集\n",
        "print(result) # {1, 2, 3, 4, 5}"
      ]
    },
    {
      "cell_type": "markdown",
      "metadata": {
        "id": "uo57eeLp1_6w"
      },
      "source": [
        "intersection 方法用於返回兩個集合的交集，即同時存在於兩個集合中的元素。"
      ]
    },
    {
      "cell_type": "code",
      "execution_count": null,
      "metadata": {
        "id": "CkOwN9e61_6w",
        "outputId": "0d9f7517-0149-42a4-8638-1bbadd15a125"
      },
      "outputs": [
        {
          "name": "stdout",
          "output_type": "stream",
          "text": [
            "{3}\n"
          ]
        }
      ],
      "source": [
        "a_set = {1, 2, 3}\n",
        "b_set = {3, 4, 5}\n",
        "result = a_set.intersection(b_set) # 返回兩集合的交集\n",
        "print(result) # {3}"
      ]
    },
    {
      "cell_type": "markdown",
      "metadata": {
        "id": "4vYDKOEJ1_6w"
      },
      "source": [
        "### 小試身手 (2)"
      ]
    },
    {
      "cell_type": "code",
      "execution_count": null,
      "metadata": {
        "id": "yylHXn9c1_6w",
        "outputId": "505b7e6e-f96f-4539-975f-e33e86c95830"
      },
      "outputs": [
        {
          "name": "stdout",
          "output_type": "stream",
          "text": [
            "籃球社成員: {'Alice', 'Charlie', 'David', 'Bob'}\n",
            "排球社成員: {'Eve', 'Charlie', 'Frank', 'Alice'}\n"
          ]
        }
      ],
      "source": [
        "basketball_club = {\"Alice\", \"Bob\", \"Charlie\", \"David\"}\n",
        "volleyball_club = {\"Eve\", \"Frank\", \"Charlie\", \"Alice\"}\n",
        "\n",
        "# 問題 1: 新增 Grace 到籃球社\n",
        "\n",
        "# 問題 2: 從排球社移除 Eve\n",
        "print(\"籃球社成員:\", basketball_club)\n",
        "print(\"排球社成員:\", volleyball_club)\n",
        "\n",
        "# 問題 3: 同時參加兩個社團的成員\n",
        "# TODO: both_clubs =\n",
        "#print(\"同時參加兩個社團的成員:\", both_clubs)\n",
        "\n",
        "# 問題 4: 至少參加一個社團的成員\n",
        "# TODO: all_members =\n",
        "#print(\"至少參加一個社團的成員:\", all_members)"
      ]
    },
    {
      "cell_type": "markdown",
      "metadata": {
        "id": "qOaXeHdJ1_6w"
      },
      "source": [
        "### 解答"
      ]
    },
    {
      "cell_type": "code",
      "execution_count": null,
      "metadata": {
        "id": "7A5lc0uV1_6w",
        "outputId": "2d9829c5-eaee-4843-8839-6a704f927cc2"
      },
      "outputs": [
        {
          "name": "stdout",
          "output_type": "stream",
          "text": [
            "同時參加兩個社團的成員: {'Charlie', 'Alice'}\n",
            "至少參加一個社團的成員: {'Grace', 'Charlie', 'David', 'Bob', 'Alice', 'Frank'}\n",
            "籃球社成員: {'Grace', 'Bob', 'Alice', 'David', 'Charlie'}\n",
            "排球社成員: {'Charlie', 'Frank', 'Alice'}\n"
          ]
        }
      ],
      "source": [
        "basketball_club = {\"Alice\", \"Bob\", \"Charlie\", \"David\"}\n",
        "volleyball_club = {\"Eve\", \"Frank\", \"Charlie\", \"Alice\"}\n",
        "\n",
        "# 問題 1: 新增 Grace 到籃球社\n",
        "basketball_club.add(\"Grace\")\n",
        "\n",
        "# 問題 2: 從排球社移除 Eve\n",
        "volleyball_club.remove(\"Eve\")\n",
        "\n",
        "# 問題 3: 同時參加兩個社團的成員\n",
        "both_clubs = basketball_club.intersection(volleyball_club)\n",
        "print(\"同時參加兩個社團的成員:\", both_clubs)\n",
        "\n",
        "# 問題 4: 至少參加一個社團的成員\n",
        "all_members = basketball_club.union(volleyball_club)\n",
        "print(\"至少參加一個社團的成員:\", all_members)\n",
        "\n",
        "# 更新後的名單\n",
        "print(\"籃球社成員:\", basketball_club)\n",
        "print(\"排球社成員:\", volleyball_club)"
      ]
    },
    {
      "cell_type": "markdown",
      "metadata": {
        "id": "SQKt9ENl1_6w"
      },
      "source": [
        "## Dictionary\n",
        "\n",
        "字典是由鍵值對（key-value pairs）組成的無序集合。\n",
        "\n",
        "- 鍵是唯一的，而值可以是任何資料類型。\n",
        "\n",
        "- 可以通過鍵來存取對應的值。"
      ]
    },
    {
      "cell_type": "markdown",
      "metadata": {
        "id": "hg6Vci6W1_6w"
      },
      "source": [
        "在 Python 中，我們使用 `{大括號}` 表達字典"
      ]
    },
    {
      "cell_type": "code",
      "execution_count": null,
      "metadata": {
        "id": "ecDvwQRo1_6x"
      },
      "outputs": [],
      "source": [
        "#創建一個空字典：\n",
        "my_dict = {} # 空字典"
      ]
    },
    {
      "cell_type": "code",
      "execution_count": null,
      "metadata": {
        "id": "tB8vEIh11_6x",
        "outputId": "97b4d26b-c03c-4312-8194-284d4f4c8813"
      },
      "outputs": [
        {
          "name": "stdout",
          "output_type": "stream",
          "text": [
            "{'name': 'Alice', 'age': 25, 'city': 'New York'}\n"
          ]
        }
      ],
      "source": [
        "#使用鍵值對初始化字典：\n",
        "person = {\"name\": \"Alice\", \"age\": 25, \"city\": \"New York\"}\n",
        "print(person) # {'name': 'Alice', 'age': 25, 'city': 'New York'}"
      ]
    },
    {
      "cell_type": "markdown",
      "metadata": {
        "id": "AimKtrF01_6x"
      },
      "source": [
        "當我們想要取出某個 key 所對應到的 value，我們可以用：`dict[key]`。"
      ]
    },
    {
      "cell_type": "code",
      "execution_count": null,
      "metadata": {
        "id": "6GmSOP_C1_6x",
        "outputId": "bddcfc11-ffeb-4d94-ad79-5eab44ec455d"
      },
      "outputs": [
        {
          "data": {
            "text/plain": [
              "'Alice'"
            ]
          },
          "execution_count": 14,
          "metadata": {},
          "output_type": "execute_result"
        }
      ],
      "source": [
        "# 例如，如果想要求出 name 這個 key 所對應的 value，我們可以這樣寫：\n",
        "\n",
        "person['name'] # 程式就會回傳 'Alice'"
      ]
    },
    {
      "cell_type": "markdown",
      "metadata": {
        "id": "ESqn673Z1_6x"
      },
      "source": [
        "字典更改和增加的語法一模一樣!\n",
        "\n",
        "如果我們想要將 age 的值改為 30，可以這樣寫："
      ]
    },
    {
      "cell_type": "code",
      "execution_count": null,
      "metadata": {
        "id": "3kYxS7iY1_6x"
      },
      "outputs": [],
      "source": [
        "person[\"age\"] = 30 # 更改 age 的值\n",
        "person[\"school\"] = \"NTU\""
      ]
    },
    {
      "cell_type": "code",
      "execution_count": null,
      "metadata": {
        "id": "ItMHlFeX1_6x",
        "outputId": "a1e8c879-da7b-4ddd-fff7-505ed39c5558"
      },
      "outputs": [
        {
          "data": {
            "text/plain": [
              "{'name': 'Alice', 'age': 30, 'city': 'New York', 'school': 'NTU'}"
            ]
          },
          "execution_count": 16,
          "metadata": {},
          "output_type": "execute_result"
        }
      ],
      "source": [
        "person"
      ]
    },
    {
      "cell_type": "markdown",
      "metadata": {
        "id": "Azh70j3S1_6x"
      },
      "source": [
        "我們有兩種方法可以刪除字典中的元素：\n",
        "\n",
        "1. 使用 `del` 刪除指定鍵："
      ]
    },
    {
      "cell_type": "code",
      "execution_count": null,
      "metadata": {
        "id": "uGtFDl7_1_6x",
        "outputId": "c5bdeedd-b9ec-4c92-d3a8-a3b19d78dd65"
      },
      "outputs": [
        {
          "name": "stdout",
          "output_type": "stream",
          "text": [
            "{'name': 'Alice', 'age': 30, 'school': 'NTU'}\n"
          ]
        }
      ],
      "source": [
        "del person[\"city\"] # 刪除 \"city\" 這個鍵及其對應的值\n",
        "print(person) # {'name': 'Alice', 'age': 30, 'school': 'NTU'}"
      ]
    },
    {
      "cell_type": "markdown",
      "metadata": {
        "id": "lgNPvkcx1_6x"
      },
      "source": [
        "2. 使用 `pop` 刪除指定鍵："
      ]
    },
    {
      "cell_type": "code",
      "execution_count": null,
      "metadata": {
        "id": "UCQ9drVn1_6y",
        "outputId": "947a5544-7846-4c91-f3a1-0e9fd2ad49f8"
      },
      "outputs": [
        {
          "name": "stdout",
          "output_type": "stream",
          "text": [
            "{'name': 'Alice', 'school': 'NTU'}\n",
            "Age: 30\n"
          ]
        }
      ],
      "source": [
        "age = person.pop(\"age\") # 刪除並返回 \"age\" 的值\n",
        "print(person) # {'name': 'Alice', 'school': 'NTU'}\n",
        "print(\"Age:\", age) # 30"
      ]
    },
    {
      "cell_type": "markdown",
      "metadata": {
        "id": "PT9Jw9OW1_6y"
      },
      "source": [
        "在某些應用中，我們只想取出字典中的鍵或值：\n",
        "1. 使用 `keys()` 取出所有鍵："
      ]
    },
    {
      "cell_type": "code",
      "execution_count": null,
      "metadata": {
        "id": "LjnXsEYZ1_6y",
        "outputId": "bf9d9571-2ce9-4cc9-bc80-769cd5a400f0"
      },
      "outputs": [
        {
          "name": "stdout",
          "output_type": "stream",
          "text": [
            "dict_keys(['name', 'school'])\n"
          ]
        }
      ],
      "source": [
        "keys = person.keys()\n",
        "print(keys)  # dict_keys(['name', 'school'])"
      ]
    },
    {
      "cell_type": "markdown",
      "metadata": {
        "id": "IebF4JTC1_6y"
      },
      "source": [
        "2. 使用 `values` 取出所有值：\n"
      ]
    },
    {
      "cell_type": "code",
      "execution_count": null,
      "metadata": {
        "id": "3Rwl9WSH1_6y",
        "outputId": "0d7e4dc9-4a1b-476e-d71d-edf7b88e26e1"
      },
      "outputs": [
        {
          "name": "stdout",
          "output_type": "stream",
          "text": [
            "dict_values(['Alice', 'NTU'])\n"
          ]
        }
      ],
      "source": [
        "values = person.values()\n",
        "print(values)  # dict_values(['Alice', 'NTU'])"
      ]
    },
    {
      "cell_type": "markdown",
      "metadata": {
        "id": "cFhaBazk1_6y"
      },
      "source": [
        "3. 使用 `items()` 取出所有鍵值對"
      ]
    },
    {
      "cell_type": "code",
      "execution_count": null,
      "metadata": {
        "id": "iPwwnRsO1_6y",
        "outputId": "20d8ffb4-0eff-44df-95cb-cacd1ad1518a"
      },
      "outputs": [
        {
          "name": "stdout",
          "output_type": "stream",
          "text": [
            "dict_items([('name', 'Alice'), ('school', 'NTU')])\n"
          ]
        }
      ],
      "source": [
        "items = person.items()\n",
        "print(items)  # dict_items([('name', 'Alice'), ('school', 'NTU')])"
      ]
    },
    {
      "cell_type": "markdown",
      "metadata": {
        "id": "E3j3adNa1_6y"
      },
      "source": [
        "### 小試身手 (3)\n",
        "\n",
        "(ZeroJudge b523).\n",
        "\n",
        "\n",
        "題目：有多個輸入被存在 `input_lines`中，每一個元素都是可能包含大小寫英文字母、數字、空白的字串。\n",
        "\n",
        "對於每一個字串，判斷其是否為第一次出現，若該字串是第一次出現，就印出 NO。若該字串曾經出現過，則印出 YES。"
      ]
    },
    {
      "cell_type": "code",
      "execution_count": null,
      "metadata": {
        "id": "6En9gbj21_6y"
      },
      "outputs": [],
      "source": [
        "input_lines = [\n",
        "    \"Hello World\",\n",
        "    \"Python is great\",\n",
        "    \"Hello World\",\n",
        "    \"Hello Python\",\n",
        "    \"Python is great\",\n",
        "    \"Data Science\",\n",
        "    \"Machine Learning\",\n",
        "    \"Data Science\",\n",
        "    \"Deep Learning\",\n",
        "    \"Python is great\",\n",
        "    \"Artificial Intelligence\",\n",
        "    \"Machine Learning\",\n",
        "    \"Data Analysis\",\n",
        "    \"Hello Python\",\n",
        "    \"Deep Learning\"\n",
        "]\n",
        "\n",
        "## 請接著往下寫\n",
        "## TODO"
      ]
    },
    {
      "cell_type": "markdown",
      "metadata": {
        "id": "hMCKtup-1_6z"
      },
      "source": [
        "你的程式碼應該印出：\n",
        "\n",
        "```\n",
        "NO\n",
        "NO\n",
        "YES\n",
        "NO\n",
        "YES\n",
        "NO\n",
        "NO\n",
        "YES\n",
        "NO\n",
        "YES\n",
        "NO\n",
        "YES\n",
        "NO\n",
        "YES\n",
        "YES\n",
        "```"
      ]
    },
    {
      "cell_type": "markdown",
      "metadata": {
        "id": "c1snCQt_1_6z"
      },
      "source": [
        "### 解答"
      ]
    },
    {
      "cell_type": "code",
      "execution_count": null,
      "metadata": {
        "id": "_LoA6bxW1_6z",
        "outputId": "773e6dff-e60d-481a-e88e-d3a32f073f9b"
      },
      "outputs": [
        {
          "name": "stdout",
          "output_type": "stream",
          "text": [
            "NO\n",
            "NO\n",
            "YES\n",
            "NO\n",
            "YES\n",
            "NO\n",
            "NO\n",
            "YES\n",
            "NO\n",
            "YES\n",
            "NO\n",
            "YES\n",
            "NO\n",
            "YES\n",
            "YES\n"
          ]
        }
      ],
      "source": [
        "seen = {}\n",
        "\n",
        "# 判斷每行是否為第一次出現\n",
        "for line in input_lines:\n",
        "    if line not in seen:\n",
        "        print(\"NO\")\n",
        "        seen[line] = 1  # 記錄該字串第一次出現\n",
        "    else:\n",
        "        print(\"YES\")"
      ]
    },
    {
      "cell_type": "markdown",
      "metadata": {
        "id": "OTQBZAQ31_6z"
      },
      "source": [
        "## Function\n",
        "\n",
        "### 函數的基本操作\n",
        "\n",
        "- 函數定義與呼叫"
      ]
    },
    {
      "cell_type": "code",
      "execution_count": null,
      "metadata": {
        "id": "5wLZzwIQ1_6z",
        "outputId": "37c40f5d-ccd8-4475-a758-85d49bbda446"
      },
      "outputs": [
        {
          "data": {
            "text/plain": [
              "'\\ndef 函數名稱(參數1, 參數2, ...):\\n    \"\"\"函數的說明（可選）\"\"\"\\n    函數的邏輯\\n    return 返回值（可選）\\n    \\n'"
            ]
          },
          "execution_count": 24,
          "metadata": {},
          "output_type": "execute_result"
        }
      ],
      "source": [
        "'''\n",
        "def 函數名稱(參數1, 參數2, ...):\n",
        "    \"\"\"函數的說明（可選）\"\"\"\n",
        "    函數的邏輯\n",
        "    return 返回值（可選）\n",
        "\n",
        "'''"
      ]
    },
    {
      "cell_type": "code",
      "execution_count": null,
      "metadata": {
        "id": "Ej2bLsVT1_6z",
        "outputId": "0940014f-1c59-46f1-dd2c-d5b13e06a12f"
      },
      "outputs": [
        {
          "name": "stdout",
          "output_type": "stream",
          "text": [
            "Hello, Alice!\n"
          ]
        }
      ],
      "source": [
        "# 定義函數\n",
        "def greet(name):\n",
        "    \"\"\"打招呼函數\"\"\"\n",
        "    return f\"Hello, {name}!\"\n",
        "\n",
        "# 呼叫函數\n",
        "message = greet(\"Alice\")\n",
        "print(message)  # Hello, Alice!"
      ]
    },
    {
      "cell_type": "markdown",
      "metadata": {
        "id": "9EM5SM9v1_6z"
      },
      "source": [
        "- 帶有預設參數的函數"
      ]
    },
    {
      "cell_type": "code",
      "execution_count": null,
      "metadata": {
        "id": "tY8mgIwA1_6z",
        "outputId": "d7a18bef-b9c6-425a-813b-0a286072666f"
      },
      "outputs": [
        {
          "name": "stdout",
          "output_type": "stream",
          "text": [
            "Hello, Guest!\n",
            "Hello, Alice!\n"
          ]
        }
      ],
      "source": [
        "def greet(name=\"Guest\"):\n",
        "    \"\"\"打招呼函數，帶預設參數\"\"\"\n",
        "    return f\"Hello, {name}!\"\n",
        "\n",
        "# 不傳參數，使用預設值\n",
        "print(greet()) # Hello, Guest!\n",
        "\n",
        "# 傳入參數，覆蓋預設值\n",
        "print(greet(\"Alice\")) # Hello, Alice!"
      ]
    },
    {
      "cell_type": "markdown",
      "metadata": {
        "id": "OGYm4d_D1_6z"
      },
      "source": [
        "- 帶多個參數的函數"
      ]
    },
    {
      "cell_type": "code",
      "execution_count": null,
      "metadata": {
        "id": "52LSzHKJ1_6z",
        "outputId": "b77b659f-7470-4d4d-a142-7b59f07ff288"
      },
      "outputs": [
        {
          "name": "stdout",
          "output_type": "stream",
          "text": [
            "85.0\n",
            "83.0\n"
          ]
        }
      ],
      "source": [
        "def weighted_average(a, b, weight_a=0.5, weight_b=0.5):\n",
        "    \"\"\"計算兩數的加權平均數\"\"\"\n",
        "    return (a * weight_a) + (b * weight_b)\n",
        "\n",
        "# 呼叫函數，使用預設權重\n",
        "print(weighted_average(80, 90))  # 85.0\n",
        "\n",
        "# 傳入自定義權重\n",
        "print(weighted_average(80, 90, weight_a=0.7, weight_b=0.3))  # 83.0"
      ]
    },
    {
      "cell_type": "markdown",
      "metadata": {
        "id": "DrWcVBO41_6z"
      },
      "source": [
        "- 如何將參數傳入函數？"
      ]
    },
    {
      "cell_type": "code",
      "execution_count": null,
      "metadata": {
        "id": "7b1cpeyi1_6z"
      },
      "outputs": [],
      "source": [
        "def intro(name, country, age):\n",
        "    print(\"My name is \" + name + \". I'm \" + str(age) + \" years old. I'm from \" + country + \".\")"
      ]
    },
    {
      "cell_type": "markdown",
      "metadata": {
        "id": "hEpLLIIO1_6z"
      },
      "source": [
        "- 如果沒有特別指定，傳入參數的順序要依照函數宣告時所使用的順序："
      ]
    },
    {
      "cell_type": "code",
      "execution_count": null,
      "metadata": {
        "id": "3ccGvTld1_6z",
        "outputId": "4194847c-6dea-4c49-f138-4da56d21a5e3"
      },
      "outputs": [
        {
          "name": "stdout",
          "output_type": "stream",
          "text": [
            "My name is John. I'm 18 years old. I'm from Taiwan (R.O.C.).\n"
          ]
        }
      ],
      "source": [
        "intro(\"John\", \"Taiwan (R.O.C.)\", 18)"
      ]
    },
    {
      "cell_type": "markdown",
      "metadata": {
        "id": "0NIZ69lX1_60"
      },
      "source": [
        "- 我們也可以用關鍵字傳參數，在傳入的值前面「註明」其所對應的參數名稱！"
      ]
    },
    {
      "cell_type": "code",
      "execution_count": null,
      "metadata": {
        "id": "we7Tg7QS1_60",
        "outputId": "46964354-1845-41aa-c53e-b146d741d7cb"
      },
      "outputs": [
        {
          "name": "stdout",
          "output_type": "stream",
          "text": [
            "My name is John. I'm 18 years old. I'm from Taiwan (R.O.C.).\n"
          ]
        }
      ],
      "source": [
        "intro(country = \"Taiwan (R.O.C.)\", age = 18, name =\"John\")"
      ]
    },
    {
      "cell_type": "markdown",
      "metadata": {
        "id": "m7PrMwZv1_60"
      },
      "source": [
        "使用關鍵字參數的範例"
      ]
    },
    {
      "cell_type": "code",
      "execution_count": null,
      "metadata": {
        "id": "RE3vOYnQ1_60",
        "outputId": "6aab24c8-9c58-4f1d-9cf2-93ebc95492af"
      },
      "outputs": [
        {
          "name": "stdout",
          "output_type": "stream",
          "text": [
            "name: Alice\n",
            "age: 25\n",
            "city: New York\n"
          ]
        }
      ],
      "source": [
        "def display_info(**info):\n",
        "    \"\"\"顯示輸入的資訊\"\"\"\n",
        "    for key, value in info.items():\n",
        "        print(f\"{key}: {value}\")\n",
        "\n",
        "# 傳入多個鍵值對\n",
        "display_info(name=\"Alice\", age=25, city=\"New York\")\n",
        "# 輸出:\n",
        "# name: Alice\n",
        "# age: 25\n",
        "# city: New York"
      ]
    },
    {
      "cell_type": "markdown",
      "metadata": {
        "id": "oZMJ80k11_60"
      },
      "source": [
        "### 變數範疇與命名空間"
      ]
    },
    {
      "cell_type": "code",
      "execution_count": null,
      "metadata": {
        "id": "XiVaeOqQ1_60",
        "outputId": "cdfbd17a-3c32-4cba-af9e-7a1d543ad62d"
      },
      "outputs": [
        {
          "name": "stdout",
          "output_type": "stream",
          "text": [
            "10\n"
          ]
        }
      ],
      "source": [
        "# 全域變數\n",
        "x = 10 # x 在全域範疇內\n",
        "\n",
        "def example_function():\n",
        "    print(x) # 訪問全域變數 x\n",
        "\n",
        "example_function() # 輸出 10"
      ]
    },
    {
      "cell_type": "code",
      "execution_count": null,
      "metadata": {
        "id": "6UuqWHEI1_60",
        "outputId": "2d22d3ab-0055-4444-e037-1bda248d2790"
      },
      "outputs": [
        {
          "name": "stdout",
          "output_type": "stream",
          "text": [
            "5\n"
          ]
        }
      ],
      "source": [
        "def example_function():\n",
        "    # 區域變數\n",
        "    x = 5 # x 在區域範疇內\n",
        "    print(x) # 訪問區域變數 x\n",
        "\n",
        "example_function() # 輸出 5\n",
        "# print(x) 會引發錯誤，因為 x 是區域變數，無法在函數外部訪問"
      ]
    },
    {
      "cell_type": "markdown",
      "metadata": {
        "id": "q1XVAVMm1_60"
      },
      "source": [
        "### 小試身手 (4)\n",
        "\n",
        "請問哪些 `x` 是區域變數，哪些 `x` 是全域變數呢？"
      ]
    },
    {
      "cell_type": "code",
      "execution_count": null,
      "metadata": {
        "id": "vQiqIiWw1_60",
        "outputId": "8bec2d42-0aa2-43a3-90ab-fc20c0715b9a"
      },
      "outputs": [
        {
          "name": "stdout",
          "output_type": "stream",
          "text": [
            "In function_1, x = 5\n",
            "In function_2, x = 6\n",
            "In main, x = 8\n"
          ]
        }
      ],
      "source": [
        "def function_1():\n",
        "    x = 5\n",
        "    print(\"In function_1, x =\", x)\n",
        "\n",
        "def function_2():\n",
        "    x = 6\n",
        "    print(\"In function_2, x =\", x)\n",
        "\n",
        "x = 8\n",
        "function_1()\n",
        "function_2()\n",
        "print(\"In main, x =\", x)"
      ]
    },
    {
      "cell_type": "markdown",
      "metadata": {
        "id": "oiYOwPUj1_60"
      },
      "source": [
        "### 解答"
      ]
    },
    {
      "cell_type": "code",
      "execution_count": null,
      "metadata": {
        "id": "ftcEQgV71_60",
        "outputId": "e2f985e0-b36b-4bab-a6a1-64c412bd81cc"
      },
      "outputs": [
        {
          "name": "stdout",
          "output_type": "stream",
          "text": [
            "In function_1, x = 5\n",
            "In function_2, x = 6\n",
            "In main, x = 8\n"
          ]
        }
      ],
      "source": [
        "def function_1():\n",
        "    x = 5  # 區域變數 (local variable)\n",
        "    print(\"In function_1, x =\", x)\n",
        "\n",
        "def function_2():\n",
        "    x = 6  # 區域變數 (local variable)\n",
        "    print(\"In function_2, x =\", x)\n",
        "\n",
        "x = 8  # 全域變數 (global variable)\n",
        "function_1()\n",
        "function_2()\n",
        "print(\"In main, x =\", x)"
      ]
    },
    {
      "cell_type": "markdown",
      "metadata": {
        "id": "tYbdXkg_1_60"
      },
      "source": [
        "### 遞迴函數\n",
        "- 其定義中調用自身的函數。\n",
        "- 用來解決那些可以分解為相同問題的較小版本的問題。"
      ]
    },
    {
      "cell_type": "code",
      "execution_count": null,
      "metadata": {
        "id": "EgsevNUK1_60"
      },
      "outputs": [],
      "source": [
        "def factorial(n):\n",
        "    if n == 0:\n",
        "        return 1 # 檢查是否為 base case\n",
        "    else:\n",
        "        return n * factorial(n-1) # 如果未達到，則進行遞迴"
      ]
    },
    {
      "cell_type": "code",
      "execution_count": null,
      "metadata": {
        "id": "0qtfkO6p1_61",
        "outputId": "c7273675-e212-469e-8ede-8bbb4b9f03c9"
      },
      "outputs": [
        {
          "name": "stdout",
          "output_type": "stream",
          "text": [
            "120\n"
          ]
        }
      ],
      "source": [
        "print(factorial(5))  # 120"
      ]
    },
    {
      "cell_type": "markdown",
      "metadata": {
        "id": "kq0V2KX71_61"
      },
      "source": [
        "### 小試身手 (5)\n",
        "\n",
        "(ZeroJudge e357).\n",
        "\n",
        "定義函數 $F(x)$\n",
        "\n",
        "$$\n",
        "F(x) =\n",
        "\\begin{cases}\n",
        "1 & \\text{若 } x = 1 \\\\\n",
        "F\\left(\\frac{x}{2}\\right) & \\text{若 } x \\text{ 為偶數} \\\\\n",
        "F(x - 1) + F(x + 1) & \\text{其餘情況}\n",
        "\\end{cases}\n",
        "$$\n",
        "\n",
        "請在講義 Jupyter Notebook 中寫出此函數，並算出 $F(14)$ 和 $F(15)$。"
      ]
    },
    {
      "cell_type": "code",
      "execution_count": null,
      "metadata": {
        "id": "LhHM4xGt1_61"
      },
      "outputs": [],
      "source": [
        "## 請接著往下寫\n",
        "def F(x):\n",
        "    pass\n",
        "    # TODO"
      ]
    },
    {
      "cell_type": "markdown",
      "metadata": {
        "id": "WY8R4FiK1_61"
      },
      "source": [
        "### 解答"
      ]
    },
    {
      "cell_type": "code",
      "execution_count": null,
      "metadata": {
        "id": "pc96NVnj1_61",
        "outputId": "82650e80-af4d-40f8-f87e-0ca15b7fe837"
      },
      "outputs": [
        {
          "name": "stdout",
          "output_type": "stream",
          "text": [
            "3 4\n"
          ]
        }
      ],
      "source": [
        "def F(x):\n",
        "    if x == 1:\n",
        "        return 1\n",
        "    elif x % 2 == 0:\n",
        "        return F(x // 2)\n",
        "    else:\n",
        "        return F(x - 1) + F(x + 1)\n",
        "\n",
        "print(F(14), F(15))"
      ]
    },
    {
      "cell_type": "markdown",
      "metadata": {
        "id": "mOJliWpk1_61"
      },
      "source": [
        "## Object\n",
        "\n",
        "將物件類比為一個「盒子」，內部包含：\n",
        "- **屬性 (Attributes)**：描述物件的資料 (如名稱、顏色)。\n",
        "- **方法 (Methods)**：操作物件的行為 (如喵喵叫、吃東西)。\n",
        "\n",
        "---\n",
        "\n",
        "##### 類別 (Class)\n",
        "用來定義物件的範疇，規範所有屬性與方法的共同特徵。\n",
        "\n",
        "例如，定義「貓咪」類別，包含：\n",
        "- **屬性**：名字、毛色。\n",
        "- **方法**：喵喵叫、睡覺。\n",
        "\n",
        "---\n",
        "\n",
        "##### 實例 (Instance)\n",
        "具體化的物件，例如：\n",
        "- **貓咪實例**: 大橘、小白。  \n",
        "  它們的名字不同，但都屬於「貓咪」類別，共享基本屬性和方法。\n"
      ]
    },
    {
      "cell_type": "code",
      "execution_count": null,
      "metadata": {
        "id": "XZq1tkkt1_61"
      },
      "outputs": [],
      "source": [
        "class Cat:\n",
        "    def __init__(self, name, color, weight):\n",
        "        self.name = name\n",
        "        self.color = color\n",
        "        self.weight = weight\n",
        "    def meow(self):\n",
        "        print(f\"{self.name} says Meow!\")\n",
        "    def eat(self, food):\n",
        "        print(f\"{self.name} is eating {food}.\")\n",
        "    def sleep(self, hours):\n",
        "        print(f\"{self.name} sleeps for {hours} hours.\")"
      ]
    },
    {
      "cell_type": "code",
      "execution_count": null,
      "metadata": {
        "id": "e1oYuq2o1_61",
        "outputId": "c588e828-6c39-4629-a808-8c0c7290087b"
      },
      "outputs": [
        {
          "name": "stdout",
          "output_type": "stream",
          "text": [
            "大橘 says Meow!\n",
            "小白 is eating 魚.\n",
            "黑咪 sleeps for 10 hours.\n"
          ]
        }
      ],
      "source": [
        "cat1 = Cat(\"大橘\", \"橘色\", 5.5)\n",
        "cat2 = Cat(\"小白\", \"白色\", 4.2)\n",
        "cat3 = Cat(\"黑咪\", \"黑色\", 6.0)\n",
        "\n",
        "cat1.meow() # 大橘 says Meow!\n",
        "cat2.eat(\"魚\") # 小白 is eating 魚.\n",
        "cat3.sleep(10) # 黑咪 sleeps for 10 hours."
      ]
    },
    {
      "cell_type": "markdown",
      "metadata": {
        "id": "BARHTbc01_61"
      },
      "source": [
        "## 模組與套件\n",
        "\n",
        "匯入整個模組或套件\n",
        "\n",
        "`import 模組套件或名稱`\n",
        "\n",
        "匯入模組或套件，並給別名\n",
        "\n",
        "`import 模組或套件名稱 as 別名`\n",
        "\n",
        "匯入模組或套件中特定的函數或類別\n",
        "\n",
        "`from 模組或套件名稱 import 子模組, 套件或函數名稱`"
      ]
    },
    {
      "cell_type": "code",
      "execution_count": null,
      "metadata": {
        "id": "5H7ZKI5A1_61",
        "outputId": "c785b7f2-5306-48c1-8f42-3793dff8e5a8"
      },
      "outputs": [
        {
          "name": "stdout",
          "output_type": "stream",
          "text": [
            "Requirement already satisfied: numpy in /Users/jaylin/miniconda3/lib/python3.12/site-packages (2.2.1)\n",
            "\n",
            "\u001b[1m[\u001b[0m\u001b[34;49mnotice\u001b[0m\u001b[1;39;49m]\u001b[0m\u001b[39;49m A new release of pip is available: \u001b[0m\u001b[31;49m24.3.1\u001b[0m\u001b[39;49m -> \u001b[0m\u001b[32;49m25.0\u001b[0m\n",
            "\u001b[1m[\u001b[0m\u001b[34;49mnotice\u001b[0m\u001b[1;39;49m]\u001b[0m\u001b[39;49m To update, run: \u001b[0m\u001b[32;49mpip install --upgrade pip\u001b[0m\n"
          ]
        }
      ],
      "source": [
        "!pip install numpy"
      ]
    },
    {
      "cell_type": "code",
      "execution_count": null,
      "metadata": {
        "id": "WbtI8KPO1_61",
        "outputId": "0747b31d-d1d6-4d83-fe0d-5fe20eaa4020"
      },
      "outputs": [
        {
          "name": "stdout",
          "output_type": "stream",
          "text": [
            "[1 2 3 4]\n",
            "11\n",
            "[ 0.84147098  0.90929743  0.14112001 -0.7568025 ]\n"
          ]
        }
      ],
      "source": [
        "import numpy as np\n",
        "\n",
        "# 在 Numpy 中建立陣列：\n",
        "arr = np.array([1, 2, 3, 4])\n",
        "print(arr) # [1 2 3 4]\n",
        "\n",
        "# 矩陣及向量運算：\n",
        "result = np.dot([1, 2], [3, 4])\n",
        "print(result) # 11\n",
        "\n",
        "# 數學運算：\n",
        "sin_values = np.sin(arr)\n",
        "print(sin_values) # [ 0.84147098  0.90929743  0.14112001 -0.7568025 ]"
      ]
    },
    {
      "cell_type": "markdown",
      "metadata": {
        "id": "2_lC5z8F1_61"
      },
      "source": [
        "### 小試身手 (6)\n",
        "請完成以下的題目！\n",
        "\n",
        "在日常的程式開發中，Numpy 是一個強大且常用的數值運算工具，適合用來處理陣列與矩陣運算。本練習的目的是讓你熟悉 Numpy 的基本操作，包含陣列的建立、基本運算、條件篩選以及簡單的矩陣操作。\n",
        "\n",
        "以下是幾個練習題，請依據提示補上程式碼並完成運算：\n",
        "1. 建立 Numpy 陣列並進行操作。\n",
        "2. 使用 Numpy 進行簡單的數學運算。\n",
        "3. 熟悉矩陣轉置與條件篩選的操作。\n",
        "4. 嘗試使用隨機數生成並進行基本的統計分析。\n",
        "\n",
        "請完成程式中的 `TODO` 區塊，並嘗試運行程式檢查結果是否正確！\n",
        "\n",
        "Hint: 善用各種搜尋工具！"
      ]
    },
    {
      "cell_type": "code",
      "execution_count": null,
      "metadata": {
        "id": "_NLKY6Pl1_62"
      },
      "outputs": [],
      "source": [
        "import numpy as np\n",
        "\n",
        "# 題目 1: 建立與操作 Numpy 陣列\n",
        "# 1-1. 建立一個一維陣列 arr1，內容為 [10, 20, 30, 40, 50]，並列印出來。\n",
        "# TODO: arr1 =\n",
        "\n",
        "# 1-2. 建立一個二維陣列 arr2，內容為 [[1, 2, 3], [4, 5, 6], [7, 8, 9]]，並列印出來。\n",
        "# TODO: arr2 =\n",
        "\n",
        "# 題目 2: 陣列基本運算\n",
        "# 2-1. 創建兩個陣列 arr1 = np.array([1, 2, 3]) 和 arr2 = np.array([4, 5, 6])，計算它們的逐元素相加。\n",
        "# TODO: sum_result =\n",
        "\n",
        "# 2-2. 計算 arr1 與 arr2 的逐元素乘積。\n",
        "# TODO: product_result =\n",
        "\n",
        "# 題目 3: 數學運算\n",
        "# 建立一個陣列 arr = np.array([0, np.pi/2, np.pi])，計算它的 sin 值。\n",
        "# TODO: sin_values =\n",
        "\n",
        "# 題目 4: 矩陣運算\n",
        "# 創建一個矩陣 A，內容為 [[1, 2], [3, 4]]，計算它的轉置 (transpose)。\n",
        "# TODO: A =\n",
        "# TODO: transpose_A =\n",
        "\n",
        "# 題目 5: 條件篩選\n",
        "# 建立一個陣列 arr = np.array([1, 2, 3, 4, 5, 6])，篩選出所有大於 3 的數字。\n",
        "# TODO: filtered_arr =\n",
        "\n",
        "# 附加挑戰\n",
        "# 請試著用 Numpy 產生 100 個標準常態分布的隨機數，並計算它的平均值。\n",
        "# TODO: random_numbers =\n",
        "# TODO: mean ="
      ]
    },
    {
      "cell_type": "markdown",
      "metadata": {
        "id": "JLTjbQAl1_62"
      },
      "source": [
        "### 解答"
      ]
    },
    {
      "cell_type": "code",
      "execution_count": null,
      "metadata": {
        "id": "1SO7FRTW1_62",
        "outputId": "98057f12-f46e-4017-a478-1afe9968d76f"
      },
      "outputs": [
        {
          "name": "stdout",
          "output_type": "stream",
          "text": [
            "arr1: [10 20 30 40 50]\n",
            "arr2:\n",
            "[[1 2 3]\n",
            " [4 5 6]\n",
            " [7 8 9]]\n",
            "Sum of arr1 and arr2: [5 7 9]\n",
            "Product of arr1 and arr2: [ 4 10 18]\n",
            "Sin values of arr: [0.0000000e+00 1.0000000e+00 1.2246468e-16]\n",
            "Matrix A:\n",
            "[[1 2]\n",
            " [3 4]]\n",
            "Transpose of A:\n",
            "[[1 3]\n",
            " [2 4]]\n",
            "Filtered array (elements > 3): [4 5 6]\n",
            "Random numbers: [ 1.35702829e+00  9.99797679e-01  6.36485204e-04  2.21791905e-02\n",
            " -1.31601227e+00  3.15234622e-01  8.58136587e-01  2.14552543e+00\n",
            " -2.58728828e-02  1.40277909e-01  5.41931520e-01  5.17813679e-01\n",
            " -9.46555790e-01  6.76493686e-01  7.79310143e-01  4.21740960e-01\n",
            " -5.26005874e-02 -2.99119040e-01 -2.52972721e-01  1.69042304e+00\n",
            " -1.84436768e+00  9.18849955e-01 -7.49928772e-01 -5.41599001e-01\n",
            " -1.21838859e-01  1.48235958e+00  3.92221470e-01  2.35876576e+00\n",
            " -1.91141046e+00 -2.01506046e+00  1.84989753e-01  2.66987844e-01\n",
            "  1.16928210e+00  8.28464951e-02 -3.41435965e-01  1.13336112e+00\n",
            "  8.05207211e-01  7.43466472e-01  8.25385734e-01  9.42523327e-02\n",
            " -3.60382415e-01 -1.15785812e+00  5.03964269e-01  1.56165438e+00\n",
            " -3.41287049e-01 -3.76417192e-01 -9.69042960e-01 -8.43221186e-02\n",
            "  6.89491160e-01 -1.40330517e+00  6.52738527e-01  1.18699541e-01\n",
            "  1.21421906e+00 -3.50976546e-01 -1.91908012e+00 -4.61089436e-01\n",
            " -6.00503725e-01  8.96688417e-01 -1.61304319e+00 -1.64897197e-01\n",
            "  6.63767516e-01  7.99382396e-01  6.16918719e-01  3.96133084e-01\n",
            "  1.15461064e+00 -2.16486908e+00  1.16332050e+00 -7.76238787e-01\n",
            "  2.18146776e+00  4.45734913e-01 -3.89653328e-01 -4.08158692e-01\n",
            " -1.03846478e-01 -6.99794827e-01  6.95510055e-01 -2.50531268e-01\n",
            "  1.38210438e+00 -1.02946035e-01 -1.81036405e+00  1.02993201e+00\n",
            " -4.15529886e-02 -4.38753529e-01 -4.60013264e-01 -5.80475154e-01\n",
            "  8.82141759e-02  4.72631623e-01 -4.96076470e-01 -7.40035311e-01\n",
            " -8.57327913e-01  1.03434610e+00 -1.25196602e+00 -2.35915606e+00\n",
            " -1.79970142e+00  5.49353851e-01 -1.71450602e+00 -3.67190927e-01\n",
            " -1.24994470e-01 -4.05262212e-01  5.70516908e-01 -1.13547548e+00]\n",
            "Mean of random numbers: 0.001060355252955265\n"
          ]
        }
      ],
      "source": [
        "import numpy as np\n",
        "\n",
        "# 題目 1: 建立與操作 Numpy 陣列\n",
        "# 1-1. 建立一個一維陣列 arr1，內容為 [10, 20, 30, 40, 50]，並列印出來。\n",
        "arr1 = np.array([10, 20, 30, 40, 50])\n",
        "print(\"arr1:\", arr1)\n",
        "\n",
        "# 1-2. 建立一個二維陣列 arr2，內容為 [[1, 2, 3], [4, 5, 6], [7, 8, 9]]，並列印出來。\n",
        "arr2 = np.array([[1, 2, 3], [4, 5, 6], [7, 8, 9]])\n",
        "print(\"arr2:\")\n",
        "print(arr2)\n",
        "\n",
        "# 題目 2: 陣列基本運算\n",
        "# 2-1. 創建兩個陣列 arr1 = np.array([1, 2, 3]) 和 arr2 = np.array([4, 5, 6])，計算它們的逐元素相加。\n",
        "arr1 = np.array([1, 2, 3])\n",
        "arr2 = np.array([4, 5, 6])\n",
        "sum_result = arr1 + arr2\n",
        "print(\"Sum of arr1 and arr2:\", sum_result)\n",
        "\n",
        "# 2-2. 計算 arr1 與 arr2 的逐元素乘積。\n",
        "product_result = arr1 * arr2\n",
        "print(\"Product of arr1 and arr2:\", product_result)\n",
        "\n",
        "# 題目 3: 數學運算\n",
        "# 1. 建立一個陣列 arr = np.array([0, np.pi/2, np.pi])，計算它的 sin 值。\n",
        "arr = np.array([0, np.pi/2, np.pi])\n",
        "sin_values = np.sin(arr)\n",
        "print(\"Sin values of arr:\", sin_values)\n",
        "\n",
        "# 題目 4: 矩陣運算\n",
        "# 1. 創建一個矩陣 A，內容為 [[1, 2], [3, 4]]，計算它的轉置 (transpose)。\n",
        "A = np.array([[1, 2], [3, 4]])\n",
        "transpose_A = A.T\n",
        "print(\"Matrix A:\")\n",
        "print(A)\n",
        "print(\"Transpose of A:\")\n",
        "print(transpose_A)\n",
        "\n",
        "# 題目 5: 條件篩選\n",
        "# 1. 建立一個陣列 arr = np.array([1, 2, 3, 4, 5, 6])，篩選出所有大於 3 的數字。\n",
        "arr = np.array([1, 2, 3, 4, 5, 6])\n",
        "filtered_arr = arr[arr > 3]\n",
        "print(\"Filtered array (elements > 3):\", filtered_arr)\n",
        "\n",
        "# 附加挑戰\n",
        "# 請試著用 Numpy 產生 100 個標準常態分布的隨機數，並計算它的平均值。\n",
        "random_numbers = np.random.randn(100)  # 產生 100 個標準常態分布的數字\n",
        "mean = np.mean(random_numbers)\n",
        "print(\"Random numbers:\", random_numbers)\n",
        "print(\"Mean of random numbers:\", mean)\n"
      ]
    }
  ],
  "metadata": {
    "kernelspec": {
      "display_name": "base",
      "language": "python",
      "name": "python3"
    },
    "language_info": {
      "codemirror_mode": {
        "name": "ipython",
        "version": 3
      },
      "file_extension": ".py",
      "mimetype": "text/x-python",
      "name": "python",
      "nbconvert_exporter": "python",
      "pygments_lexer": "ipython3",
      "version": "3.12.2"
    },
    "colab": {
      "provenance": [],
      "include_colab_link": true
    }
  },
  "nbformat": 4,
  "nbformat_minor": 0
}